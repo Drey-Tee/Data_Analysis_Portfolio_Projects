{
 "cells": [
  {
   "cell_type": "code",
   "execution_count": 1,
   "id": "33bbb108",
   "metadata": {},
   "outputs": [],
   "source": [
    "#import libraries\n",
    "from bs4 import BeautifulSoup\n",
    "import requests\n",
    "import time\n",
    "import datetime\n",
    "import smtplib"
   ]
  },
  {
   "cell_type": "code",
   "execution_count": 2,
   "id": "9fb9e6ab",
   "metadata": {},
   "outputs": [
    {
     "name": "stdout",
     "output_type": "stream",
     "text": [
      "\n",
      "                   Funny Guy Mugs 80s & 90s Retro Ugly Christmas Party Turtleneck\n",
      "                  \n",
      "\n",
      "                  $32.99\n",
      "                 \n"
     ]
    }
   ],
   "source": [
    "# connecting to amazon website\n",
    "URL = 'https://www.amazon.com/dp/B07YVG3Q7Z/ref=sspa_dk_detail_1?pd_rd_i=B07YVG3Q7Z&pd_rd_w=2Mdre&content-id=amzn1.sym.4d0fffec-3aba-4480-8fad-c6bd8f7f6b41&pf_rd_p=4d0fffec-3aba-4480-8fad-c6bd8f7f6b41&pf_rd_r=7C01BPJ0WNB2DS677GMX&pd_rd_wg=pxRj9&pd_rd_r=1f054d70-c4d1-497b-aa05-9a2389d393f0&s=apparel&sp_csd=d2lkZ2V0TmFtZT1zcF9kZXRhaWxfdGhlbWF0aWM&spLa=ZW5jcnlwdGVkUXVhbGlmaWVyPUEyOVc3WDlEMElRR1o3JmVuY3J5cHRlZElkPUEwMjkyNDQyMjRRRVlYNFlRSjI4NCZlbmNyeXB0ZWRBZElkPUEwODU4NzQ1OE1KNjZETTJVVjdLJndpZGdldE5hbWU9c3BfZGV0YWlsX3RoZW1hdGljJmFjdGlvbj1jbGlja1JlZGlyZWN0JmRvTm90TG9nQ2xpY2s9dHJ1ZQ&th=1&psc=1'\n",
    "\n",
    "headers = {\"User-Agent\": \"Mozilla/5.0 (Macintosh; Intel Mac OS X 10_15_7) AppleWebKit/537.36 (KHTML, like Gecko) Chrome/108.0.0.0 Safari/537.36\",\"Accept\": \"text/html,application/xhtml+xml,application/xml;q=0.9,image/avif,image/webp,image/apng,*/*;q=0.8,application/signed-exchange;v=b3;q=0.9\", \n",
    "    \"Accept-Encoding\": \"gzip, deflate\", \n",
    "    \"Accept-Language\": \"en-GB,en-US;q=0.9,en;q=0.8\",\n",
    "          \"DNT\":\"1\",\"Connection\":\"close\", \"Upgrade-Insecure-Requests\":\"1\"}\n",
    "\n",
    "page = requests.get(URL, headers=headers)\n",
    "\n",
    "soup1 = BeautifulSoup(page.content,\"html.parser\")\n",
    "\n",
    "soup2 = BeautifulSoup(soup1.prettify(),\"html.parser\")\n",
    "\n",
    "title = soup2.find(id='productTitle').get_text()\n",
    "\n",
    "price = soup2.find(name=\"span\", class_=\"a-offscreen\").getText()\n",
    "\n",
    "\n",
    "print(title)\n",
    "print(price)\n"
   ]
  },
  {
   "cell_type": "code",
   "execution_count": 3,
   "id": "ceb1e744",
   "metadata": {},
   "outputs": [
    {
     "name": "stdout",
     "output_type": "stream",
     "text": [
      "Funny Guy Mugs 80s & 90s Retro Ugly Christmas Party Turtleneck\n",
      "32.99\n"
     ]
    }
   ],
   "source": [
    "price = price.strip()[1:]\n",
    "title = title.strip()\n",
    "print(title)\n",
    "print(price)"
   ]
  },
  {
   "cell_type": "code",
   "execution_count": 4,
   "id": "b10fa42f",
   "metadata": {},
   "outputs": [
    {
     "name": "stdout",
     "output_type": "stream",
     "text": [
      "2022-12-16\n"
     ]
    }
   ],
   "source": [
    "# creating a timestamp for my output to track when data was collected\n",
    "\n",
    "import datetime\n",
    "\n",
    "today = datetime.date.today()\n",
    "\n",
    "print(today)"
   ]
  },
  {
   "cell_type": "code",
   "execution_count": 5,
   "id": "1592e3f4",
   "metadata": {},
   "outputs": [],
   "source": [
    "# create CSV and write headers and data into the file\n",
    "\n",
    "import csv \n",
    "\n",
    "header = ['Title', 'Price', 'Date']\n",
    "data = [title, price, today]\n",
    "\n",
    "\n",
    "with open('AmazonWebScraperDataset.csv', 'w', newline='', encoding='UTF8') as f:\n",
    "    writer = csv.writer(f)\n",
    "    writer.writerow(header)\n",
    "    writer.writerow(data)\n",
    "    \n"
   ]
  },
  {
   "cell_type": "code",
   "execution_count": 6,
   "id": "547f063c",
   "metadata": {},
   "outputs": [
    {
     "name": "stdout",
     "output_type": "stream",
     "text": [
      "                                               Title  Price        Date\n",
      "0  Funny Guy Mugs 80s & 90s Retro Ugly Christmas ...  32.99  2022-12-16\n"
     ]
    }
   ],
   "source": [
    "# reading created csv\n",
    "import pandas as pd\n",
    "\n",
    "df = pd.read_csv(r'/Users/dreytee/Documents/Datasets/movies/AmazonWebScraperDataset.csv')\n",
    "\n",
    "print(df)"
   ]
  },
  {
   "cell_type": "code",
   "execution_count": 7,
   "id": "54689386",
   "metadata": {},
   "outputs": [],
   "source": [
    "#appending data to the csv\n",
    "\n",
    "with open('AmazonWebScraperDataset.csv', 'a+', newline='', encoding='UTF8') as f:\n",
    "    writer = csv.writer(f)\n",
    "    writer.writerow(data)"
   ]
  },
  {
   "cell_type": "code",
   "execution_count": 8,
   "id": "e751fe64",
   "metadata": {},
   "outputs": [],
   "source": [
    "#combining all of the above code into one function\n",
    "\n",
    "\n",
    "def check_price():\n",
    "    URL = 'https://www.amazon.com/dp/B07YVG3Q7Z/ref=sspa_dk_detail_1?pd_rd_i=B07YVG3Q7Z&pd_rd_w=2Mdre&content-id=amzn1.sym.4d0fffec-3aba-4480-8fad-c6bd8f7f6b41&pf_rd_p=4d0fffec-3aba-4480-8fad-c6bd8f7f6b41&pf_rd_r=7C01BPJ0WNB2DS677GMX&pd_rd_wg=pxRj9&pd_rd_r=1f054d70-c4d1-497b-aa05-9a2389d393f0&s=apparel&sp_csd=d2lkZ2V0TmFtZT1zcF9kZXRhaWxfdGhlbWF0aWM&spLa=ZW5jcnlwdGVkUXVhbGlmaWVyPUEyOVc3WDlEMElRR1o3JmVuY3J5cHRlZElkPUEwMjkyNDQyMjRRRVlYNFlRSjI4NCZlbmNyeXB0ZWRBZElkPUEwODU4NzQ1OE1KNjZETTJVVjdLJndpZGdldE5hbWU9c3BfZGV0YWlsX3RoZW1hdGljJmFjdGlvbj1jbGlja1JlZGlyZWN0JmRvTm90TG9nQ2xpY2s9dHJ1ZQ&th=1&psc=1'\n",
    "\n",
    "    headers = {\"User-Agent\": \"Mozilla/5.0 (Macintosh; Intel Mac OS X 10_15_7) AppleWebKit/537.36 (KHTML, like Gecko) Chrome/108.0.0.0 Safari/537.36\",\"Accept\": \"text/html,application/xhtml+xml,application/xml;q=0.9,image/avif,image/webp,image/apng,*/*;q=0.8,application/signed-exchange;v=b3;q=0.9\", \n",
    "    \"Accept-Encoding\": \"gzip, deflate\", \n",
    "    \"Accept-Language\": \"en-GB,en-US;q=0.9,en;q=0.8\",\n",
    "          \"DNT\":\"1\",\"Connection\":\"close\", \"Upgrade-Insecure-Requests\":\"1\"}\n",
    "\n",
    "    page = requests.get(URL, headers=headers)\n",
    "\n",
    "    soup1 = BeautifulSoup(page.content, \"html.parser\")\n",
    "\n",
    "    soup2 = BeautifulSoup(soup1.prettify(), \"html.parser\")\n",
    "\n",
    "    title = soup2.find(id='productTitle').get_text()\n",
    "\n",
    "    price = soup2.find(name=\"span\", class_=\"a-offscreen\").getText()\n",
    "\n",
    "    price = price.strip()[1:]\n",
    "    title = title.strip()\n",
    "\n",
    "    import datetime\n",
    "\n",
    "    today = datetime.date.today()\n",
    "    \n",
    "    import csv \n",
    "\n",
    "    header = ['Title', 'Price', 'Date']\n",
    "    data = [title, price, today]\n",
    "\n",
    "    with open('AmazonWebScraperDataset.csv', 'a+', newline='', encoding='UTF8') as f:\n",
    "        writer = csv.writer(f)\n",
    "        writer.writerow(data)\n",
    " \n",
    "    "
   ]
  },
  {
   "cell_type": "code",
   "execution_count": null,
   "id": "2f2512e5",
   "metadata": {},
   "outputs": [],
   "source": [
    "# runs and check_price after a set time and inputs data into your CSV\n",
    "\n",
    "while(True):\n",
    "    check_price()\n",
    "    time.sleep(5)\n"
   ]
  },
  {
   "cell_type": "code",
   "execution_count": 10,
   "id": "bf8879ab",
   "metadata": {},
   "outputs": [
    {
     "name": "stdout",
     "output_type": "stream",
     "text": [
      "                                                Title  Price        Date\n",
      "0   Funny Guy Mugs 80s & 90s Retro Ugly Christmas ...  32.99  2022-12-16\n",
      "1   Funny Guy Mugs 80s & 90s Retro Ugly Christmas ...  32.99  2022-12-16\n",
      "2   Funny Guy Mugs 80s & 90s Retro Ugly Christmas ...  32.99  2022-12-16\n",
      "3   Funny Guy Mugs 80s & 90s Retro Ugly Christmas ...  32.99  2022-12-16\n",
      "4   Funny Guy Mugs 80s & 90s Retro Ugly Christmas ...  32.99  2022-12-16\n",
      "5   Funny Guy Mugs 80s & 90s Retro Ugly Christmas ...  32.99  2022-12-16\n",
      "6   Funny Guy Mugs 80s & 90s Retro Ugly Christmas ...  32.99  2022-12-16\n",
      "7   Funny Guy Mugs 80s & 90s Retro Ugly Christmas ...  32.99  2022-12-16\n",
      "8   Funny Guy Mugs 80s & 90s Retro Ugly Christmas ...  32.99  2022-12-16\n",
      "9   Funny Guy Mugs 80s & 90s Retro Ugly Christmas ...  32.99  2022-12-16\n",
      "10  Funny Guy Mugs 80s & 90s Retro Ugly Christmas ...  32.99  2022-12-16\n",
      "11  Funny Guy Mugs 80s & 90s Retro Ugly Christmas ...  32.99  2022-12-16\n",
      "12  Funny Guy Mugs 80s & 90s Retro Ugly Christmas ...  32.99  2022-12-16\n",
      "13  Funny Guy Mugs 80s & 90s Retro Ugly Christmas ...  32.99  2022-12-16\n"
     ]
    }
   ],
   "source": [
    "# reading created csv\n",
    "\n",
    "import pandas as pd\n",
    "\n",
    "df = pd.read_csv(r'/Users/dreytee/Documents/Datasets/movies/AmazonWebScraperDataset.csv')\n",
    "\n",
    "print(df)"
   ]
  },
  {
   "cell_type": "code",
   "execution_count": null,
   "id": "80f99906",
   "metadata": {},
   "outputs": [],
   "source": [
    "# sending an email (just for fun) to myselwhen a price hits below a certain level you can try it\n",
    "# out with this script\n",
    "\n",
    "def send_mail():\n",
    "    server = smtplib.SMTP_SSL('smtp.gmail.com',465)\n",
    "    server.ehlo()\n",
    "    #server.starttls()\n",
    "    server.ehlo()\n",
    "    server.login('audreytetteh7@gmail.com','xxxxxxxxx')\n",
    "    \n",
    "    subject = \"The Shirt you want is below $50! Now is your chance to buy!\"\n",
    "    body = \"Drey, this is the moment you have been waiting for. Now is your chance to pick up the shirt of your dreams. Don't mess it up! Link here: https://www.amazon.com/Funny-Data-Systems-Business-Analyst/dp/B07FNW9FGJ/ref=sr_1_3?dchild=1&keywords=data+analyst+tshirt&qid=1626655184&sr=8-3\"\n",
    "   \n",
    "    msg = f\"Subject: {subject}\\n\\n{body}\"\n",
    "    \n",
    "    server.sendmail(\n",
    "        'audreytetteh7@gmail.com',\n",
    "        msg\n",
    "     \n",
    "    )"
   ]
  },
  {
   "cell_type": "code",
   "execution_count": null,
   "id": "0cf0a67f",
   "metadata": {},
   "outputs": [],
   "source": []
  },
  {
   "cell_type": "code",
   "execution_count": null,
   "id": "d7be0bb3",
   "metadata": {},
   "outputs": [],
   "source": []
  },
  {
   "cell_type": "code",
   "execution_count": null,
   "id": "b88f91a2",
   "metadata": {},
   "outputs": [],
   "source": []
  },
  {
   "cell_type": "code",
   "execution_count": null,
   "id": "a152a3a5",
   "metadata": {},
   "outputs": [],
   "source": []
  },
  {
   "cell_type": "code",
   "execution_count": null,
   "id": "4d679fd8",
   "metadata": {},
   "outputs": [],
   "source": []
  },
  {
   "cell_type": "code",
   "execution_count": null,
   "id": "ccbe8697",
   "metadata": {},
   "outputs": [],
   "source": []
  },
  {
   "cell_type": "code",
   "execution_count": null,
   "id": "2cc75541",
   "metadata": {},
   "outputs": [],
   "source": []
  }
 ],
 "metadata": {
  "kernelspec": {
   "display_name": "Python 3 (ipykernel)",
   "language": "python",
   "name": "python3"
  },
  "language_info": {
   "codemirror_mode": {
    "name": "ipython",
    "version": 3
   },
   "file_extension": ".py",
   "mimetype": "text/x-python",
   "name": "python",
   "nbconvert_exporter": "python",
   "pygments_lexer": "ipython3",
   "version": "3.9.12"
  }
 },
 "nbformat": 4,
 "nbformat_minor": 5
}
