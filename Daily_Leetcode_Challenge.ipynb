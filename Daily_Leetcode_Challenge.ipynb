{
  "nbformat": 4,
  "nbformat_minor": 0,
  "metadata": {
    "colab": {
      "provenance": [],
      "authorship_tag": "ABX9TyOHZv67j8Kg7MuP/yWKFLOz",
      "include_colab_link": true
    },
    "kernelspec": {
      "name": "python3",
      "display_name": "Python 3"
    },
    "language_info": {
      "name": "python"
    }
  },
  "cells": [
    {
      "cell_type": "markdown",
      "metadata": {
        "id": "view-in-github",
        "colab_type": "text"
      },
      "source": [
        "<a href=\"https://colab.research.google.com/github/Drey-Tee/Data_Analysis_Portfolio_Projects/blob/main/Daily_Leetcode_Challenge.ipynb\" target=\"_parent\"><img src=\"https://colab.research.google.com/assets/colab-badge.svg\" alt=\"Open In Colab\"/></a>"
      ]
    },
    {
      "cell_type": "markdown",
      "source": [
        "**28th-September-2022**\n",
        "\n",
        "\n",
        "**Leetcode 838**: **Push Dominoes**\n",
        "\n",
        "**Problem**: There are n dominoes in a line, and we place each domino vertically upright. In the beginning, we simultaneously push some of the dominoes either to the left or to the right.\n",
        "\n",
        "After each second, each domino that is falling to the left pushes the adjacent domino on the left. Similarly, the dominoes falling to the right push their adjacent dominoes standing on the right.\n",
        "\n",
        "When a vertical domino has dominoes falling on it from both sides, it stays still due to the balance of the forces.\n",
        "\n",
        "For the purposes of this question, we will consider that a falling domino expends no additional force to a falling or already fallen domino.\n",
        "\n",
        "You are given a string dominoes representing the initial state where:\n",
        "\n",
        "dominoes[i] = 'L', if the ith domino has been pushed to the left,\n",
        "dominoes[i] = 'R', if the ith domino has been pushed to the right, and\n",
        "dominoes[i] = '.', if the ith domino has not been pushed.\n",
        "\n",
        "Return a string representing the final state.\n",
        "\n",
        "\n",
        "**URL**: https://leetcode.com/problems/push-dominoes/\n",
        "\n"
      ],
      "metadata": {
        "id": "9opmJ0RV-L4I"
      }
    },
    {
      "cell_type": "code",
      "source": [
        "class Solution:\n",
        "    def pushDominoes(self, dominoes: str) -> str:\n",
        "        while True:\n",
        "            new_dominoes = dominoes.replace('R.L', '|').replace('.L', 'LL').replace('R.', 'RR').replace('|', 'R.L')\n",
        "            if new_dominoes == dominoes:\n",
        "                break\n",
        "            else:\n",
        "                dominoes = new_dominoes\n",
        "\n",
        "        return dominoes\n"
      ],
      "metadata": {
        "id": "23yIgkQo-MwH"
      },
      "execution_count": null,
      "outputs": []
    },
    {
      "cell_type": "code",
      "source": [],
      "metadata": {
        "id": "SYJLuZ8S-QAB"
      },
      "execution_count": null,
      "outputs": []
    },
    {
      "cell_type": "markdown",
      "source": [
        "**29th-September-2022**\n",
        "\n",
        "\n",
        "**Leetcode 19**: **Remove Nth Node From End of List**\n",
        "\n",
        "**Problem**:Given the head of a linked list, remove the nth node from the end of the list and return its head.\n",
        "\n",
        "\n",
        "\n",
        "**URL**: **https://leetcode.com/problems/remove-nth-node-from-end-of-list/**"
      ],
      "metadata": {
        "id": "s5vzx1_5EDuQ"
      }
    },
    {
      "cell_type": "code",
      "source": [
        "# Definition for singly-linked list.\n",
        "# class ListNode:\n",
        "#     def __init__(self, val=0, next=None):\n",
        "#         self.val = val\n",
        "#         self.next = next\n",
        "class Solution:\n",
        "    def removeNthFromEnd(self, head: Optional[ListNode], n: int) -> Optional[ListNode]:\n",
        "        h1 = head\n",
        "        h2 = None\n",
        "        k = 1\n",
        "        while(h1):\n",
        "            if k == n+1:\n",
        "                h2 = head\n",
        "            elif k > n+1:\n",
        "                h2 = h2.next\n",
        "            h1 = h1.next\n",
        "            k += 1\n",
        "        if h2:\n",
        "            h2.next = h2.next.next\n",
        "        else:\n",
        "\t\t\t# Since h2 never started from head so nth node must be the first node\n",
        "            head = head.next\n",
        "        return head\n"
      ],
      "metadata": {
        "id": "cqcRBBiO-QDE"
      },
      "execution_count": null,
      "outputs": []
    },
    {
      "cell_type": "code",
      "source": [],
      "metadata": {
        "id": "isdHSCMG-QGS"
      },
      "execution_count": null,
      "outputs": []
    },
    {
      "cell_type": "markdown",
      "source": [
        "**30th-September-2022**\n",
        "\n",
        "\n",
        "**Leetcode 658**: **Find K Closest Elements**\n",
        "\n",
        "**Problem**:Given a sorted integer array arr, two integers k and x, return the k closest integers to x in the array. The result should also be sorted in ascending order.\n",
        "\n",
        "An integer a is closer to x than an integer b if:\n",
        "\n",
        "|a - x| < |b - x|, or\n",
        "\n",
        "|a - x| == |b - x| and a < b\n",
        "\n",
        "**URL**: **https://leetcode.com/problems/find-k-closest-elements/**"
      ],
      "metadata": {
        "id": "RxXTF3xJZouz"
      }
    },
    {
      "cell_type": "code",
      "source": [
        "class Solution:\n",
        "    def findClosestElements(self, arr: List[int], k: int, x: int) -> List[int]:\n",
        "        min = 0\n",
        "        max=len(arr) - 1\n",
        "        while max - min +1 > k:\n",
        "            if  abs(x-arr[min]) > abs(x-arr[max]):\n",
        "                min +=1\n",
        "            else:\n",
        "                max-=1\n",
        "        return arr[min :max+1]\n"
      ],
      "metadata": {
        "id": "kjApQjgO-QJR"
      },
      "execution_count": null,
      "outputs": []
    },
    {
      "cell_type": "code",
      "source": [],
      "metadata": {
        "id": "ezVE5Y03-QMQ"
      },
      "execution_count": null,
      "outputs": []
    },
    {
      "cell_type": "markdown",
      "source": [
        "**1st-October-2022**\n",
        "\n",
        "\n",
        "**Leetcode 218**: **The Skyline Problem**\n",
        "\n",
        "**Problem**:A city's skyline is the outer contour of the silhouette formed by all the buildings in that city when viewed from a distance. Given the locations and heights of all the buildings, return the skyline formed by these buildings collectively.\n",
        "\n",
        "The geometric information of each building is given in the array buildings where buildings[i] = [lefti, righti, heighti]:\n",
        "\n",
        "lefti is the x coordinate of the left edge of the ith building.\n",
        "righti is the x coordinate of the right edge of the ith building.\n",
        "heighti is the height of the ith building.\n",
        "You may assume all buildings are perfect rectangles grounded on an absolutely flat surface at height 0.\n",
        "\n",
        "The skyline should be represented as a list of \"key points\" sorted by their x-coordinate in the form [[x1,y1],[x2,y2],...]. Each key point is the left endpoint of some horizontal segment in the skyline except the last point in the list, which always has a y-coordinate 0 and is used to mark the skyline's termination where the rightmost building ends. Any ground between the leftmost and rightmost buildings should be part of the skyline's contour.\n",
        "\n",
        "Note: There must be no consecutive horizontal lines of equal height in the output skyline. For instance, [...,[2 3],[4 5],[7 5],[11 5],[12 7],...] is not acceptable; the three lines of height 5 should be merged into one in the final output as such: [...,[2 3],[4 5],[12 7],...]\n",
        "\n",
        "**URL**: **https://leetcode.com/problems/the-skyline-problem/**"
      ],
      "metadata": {
        "id": "3Av-UMgfY5Zg"
      }
    },
    {
      "cell_type": "code",
      "source": [
        "class Solution:\n",
        "    def getSkyline(self, buildings: List[List[int]]) -> List[List[int]]:\n",
        "        # for the same x, (x, -H) should be in front of (x, 0)\n",
        "        # For Example 2, we should process (2, -3) then (2, 0), as there's no height change\n",
        "        x_height_right_tuples = sorted([(L, -H, R) for L, R, H in buildings] + [(R, 0, \"doesn't matter\") for _, R, _ in buildings])\n",
        "        # (0, float('inf')) is always in max_heap, so max_heap[0] is always valid\n",
        "        result, max_heap = [[0, 0]], [(0, float('inf'))]\n",
        "        for x, negative_height, R in x_height_right_tuples:\n",
        "            while x >= max_heap[0][1]:\n",
        "                # reduce max height up to date, i.e. only consider max height in the right side of line x\n",
        "                heapq.heappop(max_heap)\n",
        "            if negative_height:\n",
        "                # Consider each height, as it may be the potential max height\n",
        "                heapq.heappush(max_heap, (negative_height, R))\n",
        "            curr_max_height = -max_heap[0][0]\n",
        "            if result[-1][1] != curr_max_height:\n",
        "                result.append([x, curr_max_height])\n",
        "        return result[1:]"
      ],
      "metadata": {
        "id": "lbYdrVx6-QPa"
      },
      "execution_count": null,
      "outputs": []
    },
    {
      "cell_type": "code",
      "source": [],
      "metadata": {
        "id": "6Q9iQZGq-QSw"
      },
      "execution_count": null,
      "outputs": []
    },
    {
      "cell_type": "markdown",
      "source": [
        "**2nd-October-2022**\n",
        "\n",
        "\n",
        "**Leetcode 91**: **Decode Ways**\n",
        "\n",
        "**Problem**:A message containing letters from A-Z can be encoded into numbers using the following mapping:\n",
        "\n",
        "'A' -> \"1\"\n",
        "'B' -> \"2\"\n",
        "...\n",
        "'Z' -> \"26\"\n",
        "To decode an encoded message, all the digits must be grouped then mapped back into letters using the reverse of the mapping above (there may be multiple ways). For example, \"11106\" can be mapped into:\n",
        "\n",
        "\"AAJF\" with the grouping (1 1 10 6)\n",
        "\"KJF\" with the grouping (11 10 6)\n",
        "Note that the grouping (1 11 06) is invalid because \"06\" cannot be mapped into 'F' since \"6\" is different from \"06\".\n",
        "\n",
        "Given a string s containing only digits, return the number of ways to decode it.\n",
        "\n",
        "The test cases are generated so that the answer fits in a 32-bit integer.\n",
        "\n",
        "\n",
        "**URL**: **https://leetcode.com/problems/decode-ways/**"
      ],
      "metadata": {
        "id": "9_cxRK4U7bFZ"
      }
    },
    {
      "cell_type": "code",
      "source": [
        "class Solution:\n",
        "    def numDecodings(self, s: str) -> int:\n",
        "        @cache\n",
        "        def depth_first_search(k):\n",
        "            if k == len(s):\n",
        "                return 1\n",
        "            if s[k] == '0':\n",
        "                return 0\n",
        "            results = depth_first_search(k+1)\n",
        "            if 10 <= int(s[k:k+2]) <= 26:\n",
        "                results += depth_first_search(k+2)\n",
        "            return results\n",
        "        return depth_first_search(0)\n"
      ],
      "metadata": {
        "id": "dgYWdR5F-QV5"
      },
      "execution_count": null,
      "outputs": []
    },
    {
      "cell_type": "code",
      "source": [],
      "metadata": {
        "id": "cdL3z8K3-QZA"
      },
      "execution_count": null,
      "outputs": []
    },
    {
      "cell_type": "markdown",
      "source": [
        "**3rd-October-2022**\n",
        "\n",
        "\n",
        "**Leetcode 1155**: **Number of Dice Rolls With Target Sum**\n",
        "\n",
        "**Problem**:You have n dice and each die has k faces numbered from 1 to k.\n",
        "\n",
        "Given three integers n, k, and target, return the number of possible ways (out of the kn total ways) to roll the dice so the sum of the face-up numbers equals target. Since the answer may be too large, return it modulo 109 + 7.\n",
        "\n",
        "\n",
        "\n",
        "**URL**: **https://leetcode.com/problems/number-of-dice-rolls-with-target-sum/**"
      ],
      "metadata": {
        "id": "VQnmBV6__xOD"
      }
    },
    {
      "cell_type": "code",
      "source": [
        "class Solution:\n",
        "    def numRollsToTarget(self, n: int, k: int, target: int) -> int:\n",
        "        dp = [[0 for j in range(target+2)] for i in range(n+1)]\n",
        "\n",
        "        dp[0][0] = 1\n",
        "\n",
        "        for rem_d in range(1, n+1):\n",
        "                for tot_S in range(0, target + 2):\n",
        "                    for a in range(1,min(k+1,tot_S + 1)):\n",
        "                        dp[rem_d][tot_S] += dp[rem_d-1][tot_S - a]\n",
        "        return dp[n][target]%(10**9+7)\n"
      ],
      "metadata": {
        "id": "kioIZeU5-QcH"
      },
      "execution_count": null,
      "outputs": []
    },
    {
      "cell_type": "code",
      "source": [],
      "metadata": {
        "id": "DBloOeSD-QfQ"
      },
      "execution_count": null,
      "outputs": []
    },
    {
      "cell_type": "markdown",
      "source": [
        "**4th-October-2022**\n",
        "\n",
        "\n",
        "**Leetcode 1578**: **Minimum Time to Make Rope Colorful**\n",
        "\n",
        "**Problem**:Alice has n balloons arranged on a rope. You are given a 0-indexed string colors where colors[i] is the color of the ith balloon.\n",
        "\n",
        "Alice wants the rope to be colorful. She does not want two consecutive balloons to be of the same color, so she asks Bob for help. Bob can remove some balloons from the rope to make it colorful. You are given a 0-indexed integer array neededTime where neededTime[i] is the time (in seconds) that Bob needs to remove the ith balloon from the rope.\n",
        "\n",
        "Return the minimum time Bob needs to make the rope colorful.\n",
        "\n",
        "\n",
        "**URL**: **https://leetcode.com/problems/minimum-time-to-make-rope-colorful/**"
      ],
      "metadata": {
        "id": "KoJGrkdpFgGw"
      }
    },
    {
      "cell_type": "code",
      "source": [
        "class Solution:\n",
        "    def minCost(self, colors: str, neededTime: List[int]) -> int:\n",
        "        res = 0\n",
        "        temp_max = 0\n",
        "        for i in range(len(colors)):\n",
        "            if i>0 and colors[i] == colors[i-1]:\n",
        "                res += min(neededTime[i],temp_max)\n",
        "                temp_max = max(temp_max,neededTime[i])\n",
        "            else:\n",
        "                temp_max = neededTime[i]\n",
        "        return res\n"
      ],
      "metadata": {
        "id": "8XkMx6BO-Qiq"
      },
      "execution_count": null,
      "outputs": []
    },
    {
      "cell_type": "code",
      "source": [],
      "metadata": {
        "id": "uTLYfiiCGIgo"
      },
      "execution_count": null,
      "outputs": []
    },
    {
      "cell_type": "markdown",
      "source": [
        "**5th-October-2022**\n",
        "\n",
        "\n",
        "**Leetcode 112**: **Path Sum**\n",
        "\n",
        "**Problem**:Given the root of a binary tree and an integer targetSum, return true if the tree has a root-to-leaf path such that adding up all the values along the path equals targetSum.\n",
        "\n",
        "A leaf is a node with no children.\n",
        "\n",
        "\n",
        "**URL**: **https://leetcode.com/problems/path-sum/**"
      ],
      "metadata": {
        "id": "wCM1YmxQGrgs"
      }
    },
    {
      "cell_type": "code",
      "source": [
        "# Definition for a binary tree node.\n",
        "# class TreeNode:\n",
        "#     def __init__(self, val=0, left=None, right=None):\n",
        "#         self.val = val\n",
        "#         self.left = left\n",
        "#         self.right = right\n",
        "class Solution:\n",
        "    def hasPathSum(self, root: TreeNode, sum: int) -> bool:\n",
        "        if not root:\n",
        "            return False\n",
        "        if root.val == sum and not root.left and not root.right:\n",
        "            return True\n",
        "        return self.hasPathSum(root.left, sum - root.val) or \\\n",
        "    self.hasPathSum(root.right, sum - root.val)\n"
      ],
      "metadata": {
        "id": "YO6VWhOPGuG2"
      },
      "execution_count": null,
      "outputs": []
    },
    {
      "cell_type": "code",
      "source": [],
      "metadata": {
        "id": "Y_yjyVPOG7Kp"
      },
      "execution_count": null,
      "outputs": []
    },
    {
      "cell_type": "markdown",
      "source": [
        "**6th-October-2022**\n",
        "\n",
        "\n",
        "**Leetcode 623**: **Add One Row to Tree**\n",
        "\n",
        "**Problem**:Given the root of a binary tree and two integers val and depth, add a row of nodes with value val at the given depth depth.\n",
        "\n",
        "Note that the root node is at depth 1.\n",
        "\n",
        "The adding rule is:\n",
        "\n",
        "Given the integer depth, for each not null tree node cur at the depth depth - 1, create two tree nodes with value val as cur's left subtree root and right subtree root.\n",
        "cur's original left subtree should be the left subtree of the new left subtree root.\n",
        "cur's original right subtree should be the right subtree of the new right subtree root.\n",
        "If depth == 1 that means there is no depth depth - 1 at all, then create a tree node with value val as the new root of the whole original tree, and the original tree is the new root's left subtree.\n",
        "\n",
        "**URL**: **https://leetcode.com/problems/add-one-row-to-tree/**"
      ],
      "metadata": {
        "id": "CTACHGMFZvuT"
      }
    },
    {
      "cell_type": "code",
      "source": [
        "# Definition for a binary tree node.\n",
        "# class TreeNode:\n",
        "#     def __init__(self, val=0, left=None, right=None):\n",
        "#         self.val = val\n",
        "#         self.left = left\n",
        "#         self.right = right\n",
        "class Solution:\n",
        "    def addOneRow(self, root: Optional[TreeNode], val: int, depth: int) -> Optional[TreeNode]:\n",
        "        if depth == 1:\n",
        "            return TreeNode(val, left=root)\n",
        "\n",
        "        def dfs(node, level):\n",
        "            if node is None:\n",
        "                return\n",
        "\n",
        "            if level == depth - 1:\n",
        "                node.left = TreeNode(val, left=node.left)\n",
        "                node.right = TreeNode(val, right = node.right)\n",
        "                return\n",
        "\n",
        "            dfs(node.left, level + 1)\n",
        "            dfs(node.right, level + 1)\n",
        "\n",
        "\n",
        "        dfs(root, 1)\n",
        "\n",
        "        return root\n"
      ],
      "metadata": {
        "id": "wwsdogTvG5j5"
      },
      "execution_count": null,
      "outputs": []
    },
    {
      "cell_type": "code",
      "source": [],
      "metadata": {
        "id": "QM7MXTFVawdU"
      },
      "execution_count": null,
      "outputs": []
    },
    {
      "cell_type": "markdown",
      "source": [
        "**7th-October-2022**\n",
        "\n",
        "\n",
        "**Leetcode 981**: **Time Based Key Value Store**\n",
        "\n",
        "**Problem**:Design a time-based key-value data structure that can store multiple values for the same key at different time stamps and retrieve the key's value at a certain timestamp.\n",
        "\n",
        "Implement the TimeMap class:\n",
        "\n",
        "TimeMap() Initializes the object of the data structure.\n",
        "void set(String key, String value, int timestamp) Stores the key key with the value value at the given time timestamp.\n",
        "String get(String key, int timestamp) Returns a value such that set was called previously, with timestamp_prev <= timestamp. If there are multiple such values, it returns the value associated with the largest timestamp_prev. If there are no values, it returns \"\".\n",
        "\n",
        "\n",
        "**URL**: **https://leetcode.com/problems/time-based-key-value-store/**"
      ],
      "metadata": {
        "id": "IMX9KasvGroX"
      }
    },
    {
      "cell_type": "code",
      "source": [
        "class TimeMap:\n",
        "    def __init__(self):\n",
        "        self.d={}\n",
        "\n",
        "    def set(self, key: str, value: str, timestamp: int) -> None:\n",
        "        self.d[(key,timestamp)]=value\n",
        "\n",
        "    def get(self, key: str, timestamp: int) -> str:\n",
        "        for i in range(timestamp,0,-1):\n",
        "            if (key,i) in self.d:\n",
        "                return self.d[(key,i)]\n",
        "        return \"\"\n",
        "\n",
        "\n",
        "# Your TimeMap object will be instantiated and called as such:\n",
        "# obj = TimeMap()\n",
        "# obj.set(key,value,timestamp)\n",
        "# param_2 = obj.get(key,timestamp)"
      ],
      "metadata": {
        "id": "-rIR_4eMGwM9"
      },
      "execution_count": null,
      "outputs": []
    },
    {
      "cell_type": "code",
      "source": [],
      "metadata": {
        "id": "TIh_rZYAG47d"
      },
      "execution_count": null,
      "outputs": []
    },
    {
      "cell_type": "markdown",
      "source": [
        "**8th-October-2022**\n",
        "\n",
        "\n",
        "**Leetcode 732**: **My Calendar III**\n",
        "\n",
        "**Problem**: A k-booking happens when k events have some non-empty intersection (i.e., there is some time that is common to all k events.)\n",
        "\n",
        "You are given some events [start, end), after each given event, return an integer k representing the maximum k-booking between all the previous events.\n",
        "\n",
        "Implement the MyCalendarThree class:\n",
        "\n",
        "MyCalendarThree() Initializes the object.\n",
        "int book(int start, int end) Returns an integer k representing the largest integer such that there exists a k-booking in the calendar.\n",
        "\n",
        "**URL**: **https://leetcode.com/problems/my-calendar-iii/**"
      ],
      "metadata": {
        "id": "_kIN84odGrrt"
      }
    },
    {
      "cell_type": "code",
      "source": [
        "# Your MyCalendarThree object will be instantiated and called as such:\n",
        "# obj = MyCalendarThree()\n",
        "# param_1 = obj.book(start,end)\n",
        "from sortedcontainers import SortedDict\n",
        "\n",
        "class MyCalendarThree:\n",
        "\n",
        "    def __init__(self):\n",
        "        self.__events_count = SortedDict()\n",
        "\n",
        "    def book(self, start: int, end: int) -> int:\n",
        "\t\t# Insert current event into the SortedDict\n",
        "        self.__events_count[start] = self.__events_count.get(start, 0) + 1\n",
        "        self.__events_count[end] = self.__events_count.get(end, 0) - 1\n",
        "\n",
        "\t\t# Return maximum overlap count\n",
        "        return max(accumulate(self.__events_count.values()))\n",
        "\n"
      ],
      "metadata": {
        "id": "PhM0vXmmGxF0"
      },
      "execution_count": null,
      "outputs": []
    },
    {
      "cell_type": "code",
      "source": [],
      "metadata": {
        "id": "Dl-BvhEDG36m"
      },
      "execution_count": null,
      "outputs": []
    },
    {
      "cell_type": "markdown",
      "source": [
        "**9th-October-2022**\n",
        "\n",
        "\n",
        "**Leetcode 16**: **3 Sum Closest**\n",
        "\n",
        "**Problem**: Given an integer array nums of length n and an integer target, find three integers in nums such that the sum is closest to target.\n",
        "\n",
        "Return the sum of the three integers.\n",
        "\n",
        "You may assume that each input would have exactly one solution.\n",
        "\n",
        "**URL**: **https://leetcode.com/problems/3sum-closest/**"
      ],
      "metadata": {
        "id": "n1CbDvVBGrvI"
      }
    },
    {
      "cell_type": "code",
      "source": [
        "class Solution:\n",
        "    def threeSumClosest(self, nums: List[int], target: int) -> int:\n",
        "        nums.sort()\n",
        "        d, ans = float(\"inf\"), 0\n",
        "        for i in range(len(nums) - 2):\n",
        "            s, e = i + 1, len(nums) - 1\n",
        "            while(s < e):\n",
        "                sum = nums[i] + nums[s] + nums[e]\n",
        "                if sum == target: return sum\n",
        "                if abs(sum - target) < d:\n",
        "                    d = abs(sum - target)\n",
        "                    ans = sum\n",
        "                if sum < target: s += 1\n",
        "                else: e -= 1\n",
        "\n",
        "        return ans"
      ],
      "metadata": {
        "id": "F-7pE_MgGyCq"
      },
      "execution_count": null,
      "outputs": []
    },
    {
      "cell_type": "code",
      "source": [],
      "metadata": {
        "id": "WN9q4MfCG3I6"
      },
      "execution_count": null,
      "outputs": []
    },
    {
      "cell_type": "markdown",
      "source": [
        "**10th-October-2022**\n",
        "\n",
        "\n",
        "**Leetcode 16**: **Two Sum IV-Input is a BST**\n",
        "\n",
        "**Problem**: Given the root of a Binary Search Tree and a target number k, return true if there exist two elements in the BST such that their sum is equal to the given target.\n",
        "\n",
        "\n",
        "\n",
        "**URL**: **https://leetcode.com/problems/two-sum-iv-input-is-a-bst/**"
      ],
      "metadata": {
        "id": "9Hq8OsYpGrye"
      }
    },
    {
      "cell_type": "code",
      "source": [
        "# Definition for a binary tree node.\n",
        "# class TreeNode:\n",
        "#     def __init__(self, val=0, left=None, right=None):\n",
        "#         self.val = val\n",
        "#         self.left = left\n",
        "#         self.right = right\n",
        "class BSTIterator:\n",
        "    def __init__(self, root: Optional[TreeNode], leftToRight: bool):\n",
        "        self.stack = []\n",
        "        self.leftToRight = leftToRight\n",
        "        self.pushUntilNone(root)\n",
        "\n",
        "    def next(self) -> int:\n",
        "        node = self.stack.pop()\n",
        "        if self.leftToRight:\n",
        "            self.pushUntilNone(node.right)\n",
        "        else:\n",
        "            self.pushUntilNone(node.left)\n",
        "        return node.val\n",
        "\n",
        "    def pushUntilNone(self, root: Optional[TreeNode]):\n",
        "        while root:\n",
        "            self.stack.append(root)\n",
        "            root = root.left if self.leftToRight else root.right\n",
        "\n",
        "\n",
        "class Solution:\n",
        "    def findTarget(self, root: Optional[TreeNode], k: int) -> bool:\n",
        "        if not root:\n",
        "            return False\n",
        "\n",
        "        left = BSTIterator(root, True)\n",
        "        right = BSTIterator(root, False)\n",
        "\n",
        "        l = left.next()\n",
        "        r = right.next()\n",
        "\n",
        "        while l < r:\n",
        "            summ = l + r\n",
        "            if summ == k:\n",
        "                return True\n",
        "            if summ < k:\n",
        "                l = left.next()\n",
        "            else:\n",
        "                 r = right.next()\n",
        "\n",
        "        return False\n"
      ],
      "metadata": {
        "id": "WXQQURahG2Om"
      },
      "execution_count": null,
      "outputs": []
    },
    {
      "cell_type": "code",
      "source": [],
      "metadata": {
        "id": "I_G-rwm2GyuP"
      },
      "execution_count": null,
      "outputs": []
    },
    {
      "cell_type": "markdown",
      "source": [
        "**11th-October-2022**\n",
        "\n",
        "\n",
        "**Leetcode 1328**: **Break a Palindrome**\n",
        "\n",
        "**Problem**: Given a palindromic string of lowercase English letters palindrome, replace exactly one character with any lowercase English letter so that the resulting string is not a palindrome and that it is the lexicographically smallest one possible.\n",
        "\n",
        "Return the resulting string. If there is no way to replace a character to make it not a palindrome, return an empty string.\n",
        "\n",
        "A string a is lexicographically smaller than a string b (of the same length) if in the first position where a and b differ, a has a character strictly smaller than the corresponding character in b. For example, \"abcc\" is lexicographically smaller than \"abcd\" because the first position they differ is at the fourth character, and 'c' is smaller than 'd'.\n",
        "\n",
        "\n",
        "**URL**: **https://leetcode.com/problems/break-a-palindrome/**"
      ],
      "metadata": {
        "id": "LBlGmnpSGr33"
      }
    },
    {
      "cell_type": "code",
      "source": [
        "class Solution:\n",
        "    def breakPalindrome(self, palindrome: str) -> str:\n",
        "        if len(palindrome) == 1:\n",
        "            return \"\"\n",
        "        n = len(palindrome) // 2\n",
        "        for i in range(n):\n",
        "            if palindrome[i] != \"a\":\n",
        "                return palindrome[:i] + \"a\" + palindrome[i+1:]\n",
        "        return palindrome[:-1] + \"b\"\n"
      ],
      "metadata": {
        "id": "9KcZRVkWGzkd"
      },
      "execution_count": null,
      "outputs": []
    },
    {
      "cell_type": "code",
      "source": [],
      "metadata": {
        "id": "ZCEU4rLRG1f1"
      },
      "execution_count": null,
      "outputs": []
    },
    {
      "cell_type": "markdown",
      "source": [
        "**12th-October-2022**\n",
        "\n",
        "\n",
        "**Leetcode 334**: **Increasing Triplet Sequence**\n",
        "\n",
        "**Problem**: Given an integer array nums, return true if there exists a triple of indices (i, j, k) such that i < j < k and nums[i] < nums[j] < nums[k]. If no such indices exists, return false.\n",
        "\n",
        "**URL**: **https://leetcode.com/problems/increasing-triplet-subsequence/**"
      ],
      "metadata": {
        "id": "wXvpPGBWGsBt"
      }
    },
    {
      "cell_type": "code",
      "source": [
        "class Solution:\n",
        "    def increasingTriplet(self, nums: List[int]) -> bool:\n",
        "        first,second=float(\"inf\"),float(\"inf\")\n",
        "        if len(nums)<3:\n",
        "            return False\n",
        "        for num in nums:\n",
        "            if num <= first:\n",
        "                first = num\n",
        "            elif num <= second:\n",
        "                second = num\n",
        "            else:\n",
        "                return True\n",
        "        return False\n"
      ],
      "metadata": {
        "id": "vmk1ooin-Ql6"
      },
      "execution_count": null,
      "outputs": []
    },
    {
      "cell_type": "code",
      "source": [],
      "metadata": {
        "id": "cKrJ3VctQxk2"
      },
      "execution_count": null,
      "outputs": []
    },
    {
      "cell_type": "markdown",
      "source": [
        "**13th-October-2022**\n",
        "\n",
        "\n",
        "**Leetcode 976**: **Largest Perimeter Triangle**\n",
        "\n",
        "**Problem**: Given an integer array nums, return the largest perimeter of a triangle with a non-zero area, formed from three of these lengths. If it is impossible to form any triangle of a non-zero area, return 0.\n",
        "\n",
        "\n",
        "**URL**: **https://leetcode.com/problems/largest-perimeter-triangle/**"
      ],
      "metadata": {
        "id": "Rcr0_ekIQ0rD"
      }
    },
    {
      "cell_type": "code",
      "source": [
        "class Solution:\n",
        "    def largestPerimeter(self, nums: List[int]) -> int:\n",
        "        nums.sort()\n",
        "        for i in reversed(range(len(nums) - 2)):\n",
        "            if nums[i] + nums[i+1] > nums[i+2]:\n",
        "                return nums[i] + nums[i+1] + nums[i+2]\n",
        "        return 0"
      ],
      "metadata": {
        "id": "ZtORoTPkQxnv"
      },
      "execution_count": null,
      "outputs": []
    },
    {
      "cell_type": "code",
      "source": [],
      "metadata": {
        "id": "A04pwejZQxrY"
      },
      "execution_count": null,
      "outputs": []
    },
    {
      "cell_type": "markdown",
      "source": [
        "**14th-October-2022**\n",
        "\n",
        "\n",
        "**Leetcode 237**: **Delete Node In a Linked List**\n",
        "\n",
        "**Problem**:There is a singly-linked list head and we want to delete a node node in it.\n",
        "\n",
        "You are given the node to be deleted node. You will not be given access to the first node of head.\n",
        "\n",
        "All the values of the linked list are unique, and it is guaranteed that the given node node is not the last node in the linked list.\n",
        "\n",
        "Delete the given node. Note that by deleting the node, we do not mean removing it from memory. We mean:\n",
        "\n",
        "The value of the given node should not exist in the linked list.\n",
        "The number of nodes in the linked list should decrease by one.\n",
        "All the values before node should be in the same order.\n",
        "All the values after node should be in the same order.\n",
        "Custom testing:\n",
        "\n",
        "For the input, you should provide the entire linked list head and the node to be given node. node should not be the last node of the list and should be an actual node in the list.\n",
        "We will build the linked list and pass the node to your function.\n",
        "The output will be the entire list after calling your function.\n",
        "\n",
        "**URL**: **https://leetcode.com/problems/delete-node-in-a-linked-list/**"
      ],
      "metadata": {
        "id": "Zl2Zsbap-g9F"
      }
    },
    {
      "cell_type": "code",
      "source": [
        "# Definition for singly-linked list.\n",
        "# class ListNode:\n",
        "#     def __init__(self, x):\n",
        "#         self.val = x\n",
        "#         self.next = None\n",
        "\n",
        "class Solution:\n",
        "    def deleteNode(self, node):\n",
        "        \"\"\"\n",
        "        :type node: ListNode\n",
        "        :rtype: void Do not return anything, modify node in-place instead.\n",
        "        \"\"\"\n",
        "        nextNode = node.next\n",
        "        # Step 2\n",
        "        node.val = nextNode.val\n",
        "        # Step 3\n",
        "        node.next = nextNode.next\n",
        "        nextNode.next = None\n",
        "        del(nextNode)"
      ],
      "metadata": {
        "id": "F5ksuNBzQxui"
      },
      "execution_count": null,
      "outputs": []
    },
    {
      "cell_type": "code",
      "source": [],
      "metadata": {
        "id": "ZYCVZ0USQxxw"
      },
      "execution_count": null,
      "outputs": []
    },
    {
      "cell_type": "markdown",
      "source": [
        "**15th-October-2022**\n",
        "\n",
        "\n",
        "**Leetcode 237**: **Delete the Middle Node of a Linked List**\n",
        "\n",
        "**Problem**:You are given the head of a linked list. Delete the middle node, and return the head of the modified linked list.\n",
        "\n",
        "The middle node of a linked list of size n is the ⌊n / 2⌋th node from the start using 0-based indexing, where ⌊x⌋ denotes the largest integer less than or equal to x.\n",
        "\n",
        "For n = 1, 2, 3, 4, and 5, the middle nodes are 0, 1, 1, 2, and 2, respectively.\n",
        "\n",
        "\n",
        "**URL**: **https://leetcode.com/problems/delete-the-middle-node-of-a-linked-list/solution/**"
      ],
      "metadata": {
        "id": "g13FqnNb81pL"
      }
    },
    {
      "cell_type": "code",
      "source": [
        "# Definition for singly-linked list.\n",
        "# class ListNode:\n",
        "#     def __init__(self, val=0, next=None):\n",
        "#         self.val = val\n",
        "#         self.next = next\n",
        "class Solution:\n",
        "    def deleteMiddle(self, head: Optional[ListNode]) -> Optional[ListNode]:\n",
        "        if not head.next:\n",
        "            return None                   # If only head, then it's the middle node\n",
        "\n",
        "        l1 = head.next\n",
        "        l2 = head\n",
        "\n",
        "        while l1.next and l1.next.next:             # On each iteration, l1 jumps two nodes and l2\n",
        "            l1 = l1.next.next                       # jumps one node, so when ptr1 hits the end of the\n",
        "            l2 = l2.next                            # list, l1 will be at the middle node.\n",
        "\n",
        "        l2.next = l2.next.next                      # middle node is removed.\n",
        "\n",
        "        return head\n",
        "\n"
      ],
      "metadata": {
        "id": "JVTf80yQQx05"
      },
      "execution_count": null,
      "outputs": []
    },
    {
      "cell_type": "code",
      "source": [],
      "metadata": {
        "id": "lCDo_As7Qx4B"
      },
      "execution_count": null,
      "outputs": []
    },
    {
      "cell_type": "markdown",
      "source": [
        "**16th-October-2022**\n",
        "\n",
        "\n",
        "**Leetcode 1531**: **String Compression II**\n",
        "\n",
        "**Problem**:Run-length encoding is a string compression method that works by replacing consecutive identical characters (repeated 2 or more times) with the concatenation of the character and the number marking the count of the characters (length of the run). For example, to compress the string \"aabccc\" we replace \"aa\" by \"a2\" and replace \"ccc\" by \"c3\". Thus the compressed string becomes \"a2bc3\".\n",
        "\n",
        "Notice that in this problem, we are not adding '1' after single characters.\n",
        "\n",
        "Given a string s and an integer k. You need to delete at most k characters from s such that the run-length encoded version of s has minimum length.\n",
        "\n",
        "Find the minimum length of the run-length encoded version of s after deleting at most k characters.\n",
        "\n",
        "\n",
        "\n",
        "**URL**: **https://leetcode.com/problems/string-compression-ii/**"
      ],
      "metadata": {
        "id": "6lpC1HNBHwrh"
      }
    },
    {
      "cell_type": "code",
      "source": [
        "class Solution:\n",
        "    def getLengthOfOptimalCompression(self, s: str, k: int) -> int:\n",
        "        @cache\n",
        "        def counter(start, last, last_count, k):\n",
        "            if k < 0: return float('inf')\n",
        "            if start == len(s): return 0\n",
        "            if s[start] == last:\n",
        "                delta = 1 if last_count == 1 or last_count == 9 or last_count == 99                 else 0\n",
        "                return delta + counter(start+1, last, last_count+1, k)\n",
        "            else:\n",
        "                keep_cnt = 1 + counter(start+1, s[start], 1, k)\n",
        "                delete_cnt = counter(start+1, last, last_count, k - 1)\n",
        "                return min(keep_cnt, delete_cnt)\n",
        "        return counter(0,\"\",0,k)\n"
      ],
      "metadata": {
        "id": "jZUX7FAuQx7K"
      },
      "execution_count": null,
      "outputs": []
    },
    {
      "cell_type": "code",
      "source": [],
      "metadata": {
        "id": "YpJDJAfcQx-I"
      },
      "execution_count": null,
      "outputs": []
    },
    {
      "cell_type": "markdown",
      "source": [
        "**17th-October-2022**\n",
        "\n",
        "\n",
        "**Leetcode 1335**: **Minimum Difficulty of a Job Schedule**\n",
        "\n",
        "**Problem**:You want to schedule a list of jobs in d days. Jobs are dependent (i.e To work on the ith job, you have to finish all the jobs j where 0 <= j < i).\n",
        "\n",
        "You have to finish at least one task every day. The difficulty of a job schedule is the sum of difficulties of each day of the d days. The difficulty of a day is the maximum difficulty of a job done on that day.\n",
        "\n",
        "You are given an integer array jobDifficulty and an integer d. The difficulty of the ith job is jobDifficulty[i].\n",
        "\n",
        "Return the minimum difficulty of a job schedule. If you cannot find a schedule for the jobs return -1.\n",
        "\n",
        "\n",
        "\n",
        "**URL**: **https://leetcode.com/problems/minimum-difficulty-of-a-job-schedule/**"
      ],
      "metadata": {
        "id": "Nj_j0ttJC2bX"
      }
    },
    {
      "cell_type": "code",
      "source": [
        "class Solution:\n",
        "    def minDifficulty(self, jobDifficulty: List[int], d: int) -> int:\n",
        "        n = len(jobDifficulty)\n",
        "\n",
        "        @cache\n",
        "        def dp(i, k):\n",
        "            if k == d: return max(jobDifficulty[i:])\n",
        "            res = float('inf')\n",
        "            curr = 0\n",
        "            for j in range(i, n - d + k):\n",
        "                curr = max(curr, jobDifficulty[j])\n",
        "                res = min(res, curr + dp(j + 1, k + 1))\n",
        "            return res\n",
        "        return -1 if n < d else dp(0, 1)"
      ],
      "metadata": {
        "id": "eCXRQlG6QyBJ"
      },
      "execution_count": null,
      "outputs": []
    },
    {
      "cell_type": "code",
      "source": [],
      "metadata": {
        "id": "Qy7dP5a0QyEh"
      },
      "execution_count": null,
      "outputs": []
    },
    {
      "cell_type": "markdown",
      "source": [
        "**18th-October-2022**\n",
        "\n",
        "\n",
        "**Leetcode 1832**: **Check if the Sentence is a Pangram**\n",
        "\n",
        "**Problem**:A pangram is a sentence where every letter of the English alphabet appears at least once.\n",
        "\n",
        "Given a string sentence containing only lowercase English letters, return true if sentence is a pangram, or false otherwise.\n",
        "\n",
        "\n",
        "\n",
        "\n",
        "**URL**: **https://leetcode.com/problems/check-if-the-sentence-is-pangram/**"
      ],
      "metadata": {
        "id": "k1mdmMbFD8K6"
      }
    },
    {
      "cell_type": "code",
      "source": [
        "class Solution:\n",
        "    def checkIfPangram(self, sentence: str) -> bool:\n",
        "        seen_letter = set(sentence)\n",
        "        if len(seen_letter) == 26:\n",
        "            return True\n",
        "        else:\n",
        "            return False\n",
        "\n",
        "# class Solution:\n",
        "#     def checkIfPangram(self, sentence: str) -> bool:\n",
        "#         seen_letter = set(sentence)\n",
        "#         return len(seen_letter) == 26\n"
      ],
      "metadata": {
        "id": "xoHnG-zGQyHy"
      },
      "execution_count": null,
      "outputs": []
    },
    {
      "cell_type": "code",
      "source": [],
      "metadata": {
        "id": "w-SL9PktQyLT"
      },
      "execution_count": null,
      "outputs": []
    },
    {
      "cell_type": "markdown",
      "source": [
        "**19th-October-2022**\n",
        "\n",
        "\n",
        "**Leetcode 38**: **Count and Say**\n",
        "\n",
        "**Problem**:The count-and-say sequence is a sequence of digit strings defined by the recursive formula:\n",
        "\n",
        "countAndSay(1) = \"1\"\n",
        "countAndSay(n) is the way you would \"say\" the digit string from countAndSay(n-1), which is then converted into a different digit string.\n",
        "To determine how you \"say\" a digit string, split it into the minimal number of substrings such that each substring contains exactly one unique digit. Then for each substring, say the number of digits, then say the digit. Finally, concatenate every said digit.\n",
        "\n",
        "For example, the saying and conversion for digit string \"3322251\":\n",
        "\n",
        "\n",
        "Given a positive integer n, return the nth term of the count-and-say sequence.\n",
        "\n",
        "\n",
        "**URL**: **https://leetcode.com/problems/count-and-say/**"
      ],
      "metadata": {
        "id": "Fxh-qGNcS2-Q"
      }
    },
    {
      "cell_type": "code",
      "source": [
        "class Solution:\n",
        "    def countAndSay(self, n: int) -> str:\n",
        "        s = '1'\n",
        "        for _ in range(n-1):\n",
        "            let, temp, count = s[0], '', 0\n",
        "            for l in s:\n",
        "                if let == l:\n",
        "                    count += 1\n",
        "                else:\n",
        "                    temp += str(count)+let\n",
        "                    let = l\n",
        "                    count = 1\n",
        "            temp += str(count)+let\n",
        "            s = temp\n",
        "        return s\n"
      ],
      "metadata": {
        "id": "2mZlwj2tQysI"
      },
      "execution_count": null,
      "outputs": []
    },
    {
      "cell_type": "code",
      "source": [],
      "metadata": {
        "id": "IIhPQWU4QyvF"
      },
      "execution_count": null,
      "outputs": []
    },
    {
      "cell_type": "markdown",
      "source": [
        "**20th-October-2022**\n",
        "\n",
        "\n",
        "**Leetcode 38**: **Top K Frequent Words**\n",
        "\n",
        "**Problem**:Given an array of strings words and an integer k, return the k most frequent strings.\n",
        "\n",
        "Return the answer sorted by the frequency from highest to lowest. Sort the words with the same frequency by their lexicographical order.\n",
        "\n",
        "\n",
        "**URL**: **https://leetcode.com/problems/top-k-frequent-words/**"
      ],
      "metadata": {
        "id": "QNJ6oQLJE65B"
      }
    },
    {
      "cell_type": "code",
      "source": [
        "class Solution:\n",
        "    def topKFrequent(self, words: List[str], k: int) -> List[str]:\n",
        "\n",
        "        # Create a dict with this structure\n",
        "        #   {'word': # of occurances, ...}\n",
        "        seen = {}\n",
        "        for word in words: seen[word] = seen.get(word, 0) + 1\n",
        "\n",
        "        # Sort that dict's items by two different keys (used in the lambda function)\n",
        "        #   1st key: -x[1]\n",
        "        #          : reverse order (descending) of the values (# of occurances)\n",
        "        #   2nd key: x[0]\n",
        "        #          : alphabetical order (secondary)\n",
        "        seen = sorted(seen.items(), key=lambda x:[-x[1], x[0]])\n",
        "\n",
        "        # Return the first k elements\n",
        "        return [seen[i][0] for i in range(k)]"
      ],
      "metadata": {
        "id": "39fcG5U3QyyN"
      },
      "execution_count": null,
      "outputs": []
    },
    {
      "cell_type": "code",
      "source": [],
      "metadata": {
        "id": "uvnS7uMWG976"
      },
      "execution_count": null,
      "outputs": []
    },
    {
      "cell_type": "markdown",
      "source": [
        "**21st-October-2022**\n",
        "\n",
        "\n",
        "**Leetcode 38**: **Integer to Roman**\n",
        "\n",
        "**Problem**:Given an array of strings words and an integer k, return the k most frequent strings.\n",
        "\n",
        "Return the answer sorted by the frequency from highest to lowest. Sort the words with the same frequency by their lexicographical order.\n",
        "\n",
        "\n",
        "**URL**: **https://leetcode.com/problems/integer-to-roman/**"
      ],
      "metadata": {
        "id": "rbFHI5BeQaTD"
      }
    },
    {
      "cell_type": "code",
      "source": [
        "class Solution:\n",
        "    def intToRoman(self, num: int) -> str:\n",
        "        roman_numerals = {1000: \"M\", 900: \"CM\", 500: \"D\", 400: \"CD\", 100: \"C\",\n",
        "                          90: \"XC\", 50: \"L\", 40: \"XL\", 10: \"X\", 9: \"IX\", 5: \"V\",\n",
        "                          4:\"IV\", 1:\"I\"}\n",
        "        results = \"\"\n",
        "\n",
        "        for key, value in roman_numerals.items():\n",
        "            while num>=key:\n",
        "                results += value\n",
        "                num -= key\n",
        "        return results"
      ],
      "metadata": {
        "id": "VJj-nqCzqpPK"
      },
      "execution_count": null,
      "outputs": []
    },
    {
      "cell_type": "code",
      "source": [],
      "metadata": {
        "id": "rrjTfc8hqpTP"
      },
      "execution_count": null,
      "outputs": []
    },
    {
      "cell_type": "markdown",
      "source": [
        "**22nd-October-2022**\n",
        "\n",
        "\n",
        "**Leetcode 219**: **Contains Duplicate II**\n",
        "\n",
        "**Problem**: Given an integer array nums and an integer k, return true if there are two distinct indices i and j in the array such that nums[i] == nums[j] and abs(i - j) <= k.\n",
        "\n",
        "**URL**: **https://leetcode.com/problems/contains-duplicate-ii/**"
      ],
      "metadata": {
        "id": "uxXSh0zHvxXf"
      }
    },
    {
      "cell_type": "code",
      "source": [
        "class Solution:\n",
        "    def containsNearbyDuplicate(self, nums: List[int], k: int) -> bool:\n",
        "        dictionary = {}\n",
        "        for i, n in enumerate(nums):\n",
        "            if n in dictionary and abs(i - dictionary[n]) <= k:\n",
        "                return True\n",
        "            dictionary[n] = i\n",
        "        return False\n"
      ],
      "metadata": {
        "id": "pwkxUeiPqpay"
      },
      "execution_count": null,
      "outputs": []
    },
    {
      "cell_type": "code",
      "source": [],
      "metadata": {
        "id": "IFdz1q65qpek"
      },
      "execution_count": null,
      "outputs": []
    },
    {
      "cell_type": "markdown",
      "source": [
        "**23rd-October-2022**\n",
        "\n",
        "\n",
        "**Leetcode 76**: **Minimum Window Substring**\n",
        "\n",
        "**Problem**: Given two strings s and t of lengths m and n respectively, return the minimum window substring of s such that every character in t (including duplicates) is included in the window. If there is no such substring, return the empty string \"\".\n",
        "\n",
        "The testcases will be generated such that the answer is unique.\n",
        "\n",
        "A substring is a contiguous sequence of characters within the string.\n",
        "\n",
        "\n",
        "**URL**: **https://leetcode.com/problems/minimum-window-substring/**"
      ],
      "metadata": {
        "id": "R_8MdtJo3vNz"
      }
    },
    {
      "cell_type": "code",
      "source": [
        "class Solution:\n",
        "    def minWindow(self, s: str, t: str) -> str:\n",
        "        need, missing = collections.Counter(t), len(t)\n",
        "        i = I = J = 0\n",
        "        for j, c in enumerate(s, 1):\n",
        "            missing -= need[c] > 0\n",
        "            need[c] -= 1\n",
        "            if not missing:\n",
        "                while i < j and need[s[i]] < 0:\n",
        "                    need[s[i]] += 1\n",
        "                    i += 1\n",
        "                if not J or j - i <= J - I:\n",
        "                    I, J = i, j\n",
        "        return s[I:J]"
      ],
      "metadata": {
        "id": "vTzfTe9BqpiW"
      },
      "execution_count": null,
      "outputs": []
    },
    {
      "cell_type": "code",
      "source": [],
      "metadata": {
        "id": "Q8i8v2cTqpmQ"
      },
      "execution_count": null,
      "outputs": []
    },
    {
      "cell_type": "markdown",
      "source": [
        "**24th-October-2022**\n",
        "\n",
        "\n",
        "**Leetcode 645**: **Set Mismatch**\n",
        "\n",
        "**Problem**: You have a set of integers s, which originally contains all the numbers from 1 to n. Unfortunately, due to some error, one of the numbers in s got duplicated to another number in the set, which results in repetition of one number and loss of another number.\n",
        "\n",
        "You are given an integer array nums representing the data status of this set after the error.\n",
        "\n",
        "Find the number that occurs twice and the number that is missing and return them in the form of an array.\n",
        "\n",
        "\n",
        "**URL**: **https://leetcode.com/problems/set-mismatch//**"
      ],
      "metadata": {
        "id": "UiDx51Y61mCW"
      }
    },
    {
      "cell_type": "code",
      "source": [
        "class Solution:\n",
        "    def findErrorNums(self, nums: List[int]) -> List[int]:\n",
        "        n = len(nums)\n",
        "        i = sum(nums)\n",
        "        k = sum(set(nums))\n",
        "        q = n*(n+1)//2\n",
        "\n",
        "        return [i-k, q-k]"
      ],
      "metadata": {
        "id": "lBcWyIDeqpqJ"
      },
      "execution_count": null,
      "outputs": []
    },
    {
      "cell_type": "code",
      "source": [],
      "metadata": {
        "id": "Dk3De3UWqpuD"
      },
      "execution_count": null,
      "outputs": []
    },
    {
      "cell_type": "markdown",
      "source": [
        "**25th-October-2022**\n",
        "\n",
        "\n",
        "**Leetcode 1239**: **Maximum Length Of a Concatenated String with Unique Characters**\n",
        "\n",
        "**Problem**: You are given an array of strings arr. A string s is formed by the concatenation of a subsequence of arr that has unique characters.\n",
        "\n",
        "Return the maximum possible length of s.\n",
        "\n",
        "A subsequence is an array that can be derived from another array by deleting some or no elements without changing the order of the remaining elements.\n",
        "\n",
        "\n",
        "**URL**: **https://leetcode.com/problems/maximum-length-of-a-concatenated-string-with-unique-characters/**"
      ],
      "metadata": {
        "id": "BepXNCITnpPy"
      }
    },
    {
      "cell_type": "code",
      "source": [
        "class Solution:\n",
        "    def maxLength(self, arr: List[str]) -> int:\n",
        "        self.maximum = 0\n",
        "        def backtrack(start,array,s):\n",
        "            if len(s)==len(set(s)):\n",
        "                self.maximum = max(self.maximum,len(s))\n",
        "            else:\n",
        "                return\n",
        "            for i in range(start,len(array)):\n",
        "                backtrack(i+1,array,s + array[i])\n",
        "        backtrack(0,arr,\"\")\n",
        "        return self.maximum\n"
      ],
      "metadata": {
        "id": "_rKl08Lpqpx1"
      },
      "execution_count": null,
      "outputs": []
    },
    {
      "cell_type": "code",
      "source": [],
      "metadata": {
        "id": "_pCcKxENqp1_"
      },
      "execution_count": null,
      "outputs": []
    },
    {
      "cell_type": "markdown",
      "source": [
        "**26th-October-2022**\n",
        "\n",
        "\n",
        "**Leetcode 1662**: **Check if Two Strings Are Equivalent**\n",
        "\n",
        "**Problem**:Given two string arrays word1 and word2, return true if the two arrays represent the same string, and false otherwise.\n",
        "\n",
        "A string is represented by an array if the array elements concatenated in order forms the string.\n",
        "\n",
        "\n",
        "\n",
        "**URL**: **https://leetcode.com/problems/check-if-two-string-arrays-are-equivalent/**"
      ],
      "metadata": {
        "id": "YmgAf4pKpBXh"
      }
    },
    {
      "cell_type": "code",
      "source": [
        "class Solution:\n",
        "    def arrayStringsAreEqual(self, word1: List[str], word2: List[str]) -> bool:\n",
        "        return \"\".join(word1) == \"\".join(word2)"
      ],
      "metadata": {
        "id": "C5B4Ohg2qp5x"
      },
      "execution_count": null,
      "outputs": []
    },
    {
      "cell_type": "code",
      "source": [],
      "metadata": {
        "id": "-qqQg9Glqp9n"
      },
      "execution_count": null,
      "outputs": []
    },
    {
      "cell_type": "markdown",
      "source": [
        "**27th-October-2022**\n",
        "\n",
        "\n",
        "**Leetcode 523**: **Continuous Subarray Sum**\n",
        "\n",
        "**Problem**:Given an integer array nums and an integer k, return true if nums has a continuous subarray of size at least two whose elements sum up to a multiple of k, or false otherwise.\n",
        "\n",
        "An integer x is a multiple of k if there exists an integer n such that x = n * k. 0 is always a multiple of k.\n",
        "\n",
        "**URL**: **https://leetcode.com/problems/continuous-subarray-sum/**"
      ],
      "metadata": {
        "id": "YgpQv2HP7_IH"
      }
    },
    {
      "cell_type": "code",
      "source": [
        "class Solution:\n",
        "    def checkSubarraySum(self, nums: List[int], k: int) -> bool:\n",
        "\n",
        "        # initialize the hash map with index 0 for sum 0\n",
        "        hash_map = {0: 0}\n",
        "        m = 0\n",
        "        for i in range(len(nums)):\n",
        "            m += nums[i]\n",
        "            # if the remainder m % k occurs for the first time\n",
        "            if m % k not in hash_map:\n",
        "                hash_map[m % k] = i + 1\n",
        "            # if the subarray size is at least two\n",
        "            elif hash_map[m % k] < i:\n",
        "                return True\n",
        "        return False\n"
      ],
      "metadata": {
        "id": "322FcXV_qqBd"
      },
      "execution_count": null,
      "outputs": []
    },
    {
      "cell_type": "markdown",
      "source": [
        "**28th-October-2022**\n",
        "\n",
        "\n",
        "**Leetcode 835**: **Image Overlap**\n",
        "\n",
        "**Problem**: You are given two images, img1 and img2, represented as binary, square matrices of size n x n. A binary matrix has only 0s and 1s as values.\n",
        "\n",
        "We translate one image however we choose by sliding all the 1 bits left, right, up, and/or down any number of units. We then place it on top of the other image. We can then calculate the overlap by counting the number of positions that have a 1 in both images.\n",
        "\n",
        "Note also that a translation does not include any kind of rotation. Any 1 bits that are translated outside of the matrix borders are erased.\n",
        "\n",
        "Return the largest possible overlap.\n",
        "\n",
        "**URL**: **https://leetcode.com/problems/image-overlap/**"
      ],
      "metadata": {
        "id": "VXq9nZVBTNvL"
      }
    },
    {
      "cell_type": "code",
      "source": [
        "class Solution:\n",
        "    def largestOverlap(self, img1: List[List[int]], img2: List[List[int]]) -> int:\n",
        "        dimension = len(img1)\n",
        "\n",
        "        def non_zero_cells(M):\n",
        "            result = []\n",
        "            for x in range(dimension):\n",
        "                for y in range(dimension):\n",
        "                    if M[x][y] == 1:\n",
        "                        result.append((x, y))\n",
        "            return result\n",
        "\n",
        "        transformation_count = defaultdict(int)\n",
        "        max_overlaps = 0\n",
        "\n",
        "        img1_ones = non_zero_cells(img1)\n",
        "        img2_ones = non_zero_cells(img2)\n",
        "\n",
        "        for (x_a, y_a) in img1_ones:\n",
        "            for (x_b, y_b) in img2_ones:\n",
        "                vector = (x_b - x_a, y_b - y_a)\n",
        "                transformation_count[vector] += 1\n",
        "                max_overlaps = max(max_overlaps, transformation_count[vector])\n",
        "\n",
        "        return max_overlaps"
      ],
      "metadata": {
        "id": "9VEoLzGmqqFH"
      },
      "execution_count": null,
      "outputs": []
    },
    {
      "cell_type": "code",
      "source": [],
      "metadata": {
        "id": "gGiwYrb0qqIy"
      },
      "execution_count": null,
      "outputs": []
    },
    {
      "cell_type": "markdown",
      "source": [
        "**29th-October-2022**\n",
        "\n",
        "\n",
        "**Leetcode 49**: **Group Anagrams**\n",
        "\n",
        "**Problem**: You are given two images, img1 and img2, represented as binary, square matrices of size n x n. A binary matrix has only 0s and 1s as values.\n",
        "\n",
        "We translate one image however we choose by sliding all the 1 bits left, right, up, and/or down any number of units. We then place it on top of the other image. We can then calculate the overlap by counting the number of positions that have a 1 in both images.\n",
        "\n",
        "Note also that a translation does not include any kind of rotation. Any 1 bits that are translated outside of the matrix borders are erased.\n",
        "\n",
        "Return the largest possible overlap.\n",
        "\n",
        "**URL**: **https://leetcode.com/problems/group-anagrams/**"
      ],
      "metadata": {
        "id": "jfYC0QZLGven"
      }
    },
    {
      "cell_type": "code",
      "source": [
        "class Solution:\n",
        "    def groupAnagrams(self, strs: List[str]) -> List[List[str]]:\n",
        "        like_anagrams = dict()\n",
        "        for string in strs:\n",
        "            key = \"\".join(sorted(string))\n",
        "            like_anagrams[key] = like_anagrams.get(key,[]) + [string]\n",
        "        return list(like_anagrams.values())\n"
      ],
      "metadata": {
        "id": "8SsP-YmOqqMy"
      },
      "execution_count": null,
      "outputs": []
    },
    {
      "cell_type": "code",
      "source": [],
      "metadata": {
        "id": "ggwdpv9mqqQk"
      },
      "execution_count": null,
      "outputs": []
    },
    {
      "cell_type": "markdown",
      "source": [
        "**30th-October-2022**\n",
        "\n",
        "\n",
        "**Leetcode 2136**: **Earliest Possible Day of Full Bloom**\n",
        "\n",
        "**Problem**: You have n flower seeds. Every seed must be planted first before it can begin to grow, then bloom. Planting a seed takes time and so does the growth of a seed. You are given two 0-indexed integer arrays plantTime and growTime, of length n each:\n",
        "\n",
        "plantTime[i] is the number of full days it takes you to plant the ith seed. Every day, you can work on planting exactly one seed. You do not have to work on planting the same seed on consecutive days, but the planting of a seed is not complete until you have worked plantTime[i] days on planting it in total.\n",
        "growTime[i] is the number of full days it takes the ith seed to grow after being completely planted. After the last day of its growth, the flower blooms and stays bloomed forever.\n",
        "From the beginning of day 0, you can plant the seeds in any order.\n",
        "\n",
        "Return the earliest possible day where all seeds are blooming.\n",
        "\n",
        "\n",
        "**URL**: **https://leetcode.com/problems/earliest-possible-day-of-full-bloom/**"
      ],
      "metadata": {
        "id": "cB1vIREOcT61"
      }
    },
    {
      "cell_type": "code",
      "source": [
        "class Solution:\n",
        "    def earliestFullBloom(self, plantTime: List[int], growTime: List[int]) -> int:\n",
        "        cur_plant_time = 0\n",
        "        result = 0\n",
        "        indices = sorted(range(len(plantTime)), key=lambda x: -growTime[x])\n",
        "        for i in indices:\n",
        "            cur_plant_time += plantTime[i]\n",
        "            result = max(result, cur_plant_time + growTime[i])\n",
        "        return result\n"
      ],
      "metadata": {
        "id": "KmxAHIjbqqUe"
      },
      "execution_count": null,
      "outputs": []
    },
    {
      "cell_type": "code",
      "source": [],
      "metadata": {
        "id": "7QSBtIm-qqYR"
      },
      "execution_count": null,
      "outputs": []
    },
    {
      "cell_type": "markdown",
      "source": [
        "**31st-October-2022**\n",
        "\n",
        "\n",
        "**Leetcode 1293**: **Shortest Path In a Grid With Obstacles Elimination**\n",
        "\n",
        "**Problem**: You are given an m x n integer matrix grid where each cell is either 0 (empty) or 1 (obstacle). You can move up, down, left, or right from and to an empty cell in one step.\n",
        "\n",
        "Return the minimum number of steps to walk from the upper left corner (0, 0) to the lower right corner (m - 1, n - 1) given that you can eliminate at most k obstacles. If it is not possible to find such walk return -1.\n",
        "\n",
        "\n",
        "**URL**: **https://leetcode.com/problems/shortest-path-in-a-grid-with-obstacles-elimination/**"
      ],
      "metadata": {
        "id": "ICaLUUoTfNbu"
      }
    },
    {
      "cell_type": "code",
      "source": [
        "class Solution:\n",
        "    def shortestPath(self, grid: List[List[int]], k: int) -> int:\n",
        "        m = len(grid)\n",
        "        n = len(grid[0])\n",
        "        if m == 1 and n == 1:\n",
        "            return 0\n",
        "\n",
        "        dirs = [0, 1, 0, -1, 0]\n",
        "        steps = 0\n",
        "        q = deque([(0, 0, k)])\n",
        "        seen = {(0, 0, k)}\n",
        "\n",
        "        while q:\n",
        "            steps += 1\n",
        "            for _ in range(len(q)):\n",
        "                i, j, eliminate = q.popleft()\n",
        "                for l in range(4):\n",
        "                    x = i + dirs[l]\n",
        "                    y = j + dirs[l + 1]\n",
        "                    if x < 0 or x == m or y < 0 or y == n:\n",
        "                        continue\n",
        "                    if x == m - 1 and y == n - 1:\n",
        "                        return steps\n",
        "                    if grid[x][y] == 1 and eliminate == 0:\n",
        "                        continue\n",
        "                    newEliminate = eliminate - grid[x][y]\n",
        "                    if (x, y, newEliminate) in seen:\n",
        "                        continue\n",
        "                    q.append((x, y, newEliminate))\n",
        "                    seen.add((x, y, newEliminate))\n",
        "\n",
        "        return -1\n"
      ],
      "metadata": {
        "id": "-3403RzGqqcM"
      },
      "execution_count": null,
      "outputs": []
    },
    {
      "cell_type": "code",
      "source": [],
      "metadata": {
        "id": "Rhx0yKDFqqgc"
      },
      "execution_count": null,
      "outputs": []
    },
    {
      "cell_type": "markdown",
      "source": [
        "**1st-November-2022**\n",
        "\n",
        "\n",
        "**Leetcode 766**: **Toeplitz Matrix**\n",
        "\n",
        "**Problem**:Given an m x n matrix, return true if the matrix is Toeplitz. Otherwise, return false.\n",
        "\n",
        "A matrix is Toeplitz if every diagonal from top-left to bottom-right has the same elements.\n",
        "\n",
        "**URL**: **https://leetcode.com/problems/toeplitz-matrix/**"
      ],
      "metadata": {
        "id": "XP3UayddanZe"
      }
    },
    {
      "cell_type": "code",
      "source": [
        "class Solution:\n",
        "    def isToeplitzMatrix(self, matrix: List[List[int]]) -> bool:\n",
        "        for i in range(len(matrix) - 1):\n",
        "            for j in range(len(matrix[0]) - 1):\n",
        "                if matrix[i][j] != matrix[i + 1][j + 1]:\n",
        "                    return False\n",
        "        return True\n"
      ],
      "metadata": {
        "id": "28e4zpNNqqkP"
      },
      "execution_count": null,
      "outputs": []
    },
    {
      "cell_type": "code",
      "source": [],
      "metadata": {
        "id": "FHmVr5liqqn4"
      },
      "execution_count": null,
      "outputs": []
    },
    {
      "cell_type": "markdown",
      "source": [
        "**2nd-November-2022**\n",
        "\n",
        "\n",
        "**Leetcode 1706**: **Where Will The Ball Fall**\n",
        "\n",
        "**Problem**:You have a 2-D grid of size m x n representing a box, and you have n balls. The box is open on the top and bottom sides.\n",
        "\n",
        "Each cell in the box has a diagonal board spanning two corners of the cell that can redirect a ball to the right or to the left.\n",
        "\n",
        "A board that redirects the ball to the right spans the top-left corner to the bottom-right corner and is represented in the grid as 1.\n",
        "A board that redirects the ball to the left spans the top-right corner to the bottom-left corner and is represented in the grid as -1.\n",
        "We drop one ball at the top of each column of the box. Each ball can get stuck in the box or fall out of the bottom. A ball gets stuck if it hits a \"V\" shaped pattern between two boards or if a board redirects the ball into either wall of the box.\n",
        "\n",
        "Return an array answer of size n where answer[i] is the column that the ball falls out of at the bottom after dropping the ball from the ith column at the top, or -1 if the ball gets stuck in the box.\n",
        "\n",
        "**URL**: **https://leetcode.com/problems/where-will-the-ball-fall/**"
      ],
      "metadata": {
        "id": "P4agaPb1hIKx"
      }
    },
    {
      "cell_type": "code",
      "source": [
        "class Solution:\n",
        "    def findBall(self, grid: List[List[int]]) -> List[int]:\n",
        "        a, b = len(grid), len(grid[0])\n",
        "\n",
        "        # [1] function that simulates m steps\n",
        "        def move_ball(j):\n",
        "            for i in range(a):\n",
        "                k = j + grid[i][j]\n",
        "                if not (0 <= k < b) or (grid[i][k] != grid[i][j]):\n",
        "                    return -1\n",
        "                j = k\n",
        "            return j\n",
        "\n",
        "        # [2] move n balls from the top to the bottom\n",
        "        return [move_ball(j) for j in range(b)]\n"
      ],
      "metadata": {
        "id": "SHhjVgzQqqr6"
      },
      "execution_count": null,
      "outputs": []
    },
    {
      "cell_type": "code",
      "source": [],
      "metadata": {
        "id": "9AYuAHDUqqvs"
      },
      "execution_count": null,
      "outputs": []
    },
    {
      "cell_type": "markdown",
      "source": [
        "**3rd-November-2022**\n",
        "\n",
        "\n",
        "**Leetcode 433**: **Minimum Genetic Mutation**\n",
        "\n",
        "**Problem**:A gene string can be represented by an 8-character long string, with choices from 'A', 'C', 'G', and 'T'.\n",
        "\n",
        "Suppose we need to investigate a mutation from a gene string start to a gene string end where one mutation is defined as one single character changed in the gene string.\n",
        "\n",
        "For example, \"AACCGGTT\" --> \"AACCGGTA\" is one mutation.\n",
        "There is also a gene bank bank that records all the valid gene mutations. A gene must be in bank to make it a valid gene string.\n",
        "\n",
        "Given the two gene strings start and end and the gene bank bank, return the minimum number of mutations needed to mutate from start to end. If there is no such a mutation, return -1.\n",
        "\n",
        "Note that the starting point is assumed to be valid, so it might not be included in the bank.\n",
        "\n",
        "\n",
        "\n",
        "\n",
        "\n",
        "**URL**: **https://leetcode.com/problems/minimum-genetic-mutation/**"
      ],
      "metadata": {
        "id": "FX1Dpdmmh-7k"
      }
    },
    {
      "cell_type": "code",
      "source": [
        "class Solution:\n",
        "    def minMutation(self, start: str, end: str, bank: List[str]) -> int:\n",
        "        queue = deque([(start, 0)])\n",
        "        seen = {start}\n",
        "\n",
        "        while queue:\n",
        "            node, steps = queue.popleft()\n",
        "            if node == end:\n",
        "                return steps\n",
        "\n",
        "            for c in \"ACGT\":\n",
        "                for i in range(len(node)):\n",
        "                    neighbor = node[:i] + c + node[i + 1:]\n",
        "                    if neighbor not in seen and neighbor in bank:\n",
        "                        queue.append((neighbor, steps + 1))\n",
        "                        seen.add(neighbor)\n",
        "\n",
        "        return -1"
      ],
      "metadata": {
        "id": "WF1IFZEsqqzM"
      },
      "execution_count": null,
      "outputs": []
    },
    {
      "cell_type": "code",
      "source": [],
      "metadata": {
        "id": "xa77nLDIqq3I"
      },
      "execution_count": null,
      "outputs": []
    },
    {
      "cell_type": "markdown",
      "source": [
        "**4th-November-2022**\n",
        "\n",
        "\n",
        "**Leetcode 2131**: **Longest Palindrome By Concatenating Two Letter Words**\n",
        "\n",
        "**Problem**You are given an array of strings words. Each element of words consists of two lowercase English letters.\n",
        "\n",
        "Create the longest possible palindrome by selecting some elements from words and concatenating them in any order. Each element can be selected at most once.\n",
        "\n",
        "Return the length of the longest palindrome that you can create. If it is impossible to create any palindrome, return 0.\n",
        "\n",
        "A palindrome is a string that reads the same forward and backward.\n",
        "\n",
        "\n",
        "**URL**: **https://leetcode.com/problems/longest-palindrome-by-concatenating-two-letter-words/**"
      ],
      "metadata": {
        "id": "Da1Tm2QxO84Y"
      }
    },
    {
      "cell_type": "code",
      "source": [
        "class Solution:\n",
        "    def longestPalindrome(self, words: List[str]) -> int:\n",
        "        results = 0\n",
        "        count = [[0] * 26 for _ in range(26)]\n",
        "\n",
        "        for a, b in words:\n",
        "            i = ord(a) - ord('a')\n",
        "            j = ord(b) - ord('a')\n",
        "            if count[j][i]:\n",
        "                results += 4\n",
        "                count[j][i] -= 1\n",
        "            else:\n",
        "                count[i][j] += 1\n",
        "\n",
        "        for i in range(26):\n",
        "            if count[i][i]:\n",
        "                return results + 2\n",
        "\n",
        "        return results\n"
      ],
      "metadata": {
        "id": "9cOdS1meOlF1"
      },
      "execution_count": null,
      "outputs": []
    },
    {
      "cell_type": "code",
      "source": [],
      "metadata": {
        "id": "vWuR1jtGOlJl"
      },
      "execution_count": null,
      "outputs": []
    },
    {
      "cell_type": "markdown",
      "source": [
        "**5th-November-2022**\n",
        "\n",
        "\n",
        "**Leetcode 345**: **Reverse Vowels Of a String**\n",
        "\n",
        "**Problem**: Given a string s, reverse only all the vowels in the string and return it.\n",
        "\n",
        "The vowels are 'a', 'e', 'i', 'o', and 'u', and they can appear in both lower and upper cases, more than once.\n",
        "\n",
        "\n",
        "\n",
        "**URL**: **https://leetcode.com/problems/reverse-vowels-of-a-string/**"
      ],
      "metadata": {
        "id": "GODw15c13TX6"
      }
    },
    {
      "cell_type": "code",
      "source": [
        "class Solution:\n",
        "    def reverseVowels(self, s: str) -> str:\n",
        "        charList = list(s)\n",
        "        vowels = {'a', 'e', 'i', 'o', 'u', 'A', 'E', 'I', 'O', 'U'}\n",
        "        left = 0\n",
        "        right = len(s) - 1\n",
        "\n",
        "        while left < right:\n",
        "            while left < right and charList[left] not in vowels:\n",
        "                left += 1\n",
        "            while left < right and charList[right] not in vowels:\n",
        "                right -= 1\n",
        "            charList[left], charList[right] = charList[right], charList[left]\n",
        "            left += 1\n",
        "            right -= 1\n",
        "\n",
        "        return ''.join(charList)\n"
      ],
      "metadata": {
        "id": "GEj3zbr4OlNh"
      },
      "execution_count": null,
      "outputs": []
    },
    {
      "cell_type": "code",
      "source": [],
      "metadata": {
        "id": "S37RakEmOlRR"
      },
      "execution_count": null,
      "outputs": []
    },
    {
      "cell_type": "markdown",
      "source": [
        "**6th-November-2022**\n",
        "\n",
        "\n",
        "**Leetcode 212**: **Word Search II**\n",
        "\n",
        "**Problem**: Given an m x n board of characters and a list of strings words, return all words on the board.\n",
        "\n",
        "Each word must be constructed from letters of sequentially adjacent cells, where adjacent cells are horizontally or vertically neighboring. The same letter cell may not be used more than once in a word.\n",
        "\n",
        "\n",
        "**URL**: **https://leetcode.com/problems/word-search-ii/**"
      ],
      "metadata": {
        "id": "XSszZFc1G1hM"
      }
    },
    {
      "cell_type": "code",
      "source": [
        "from functools import reduce\n",
        "from collections import defaultdict\n",
        "class Solution:\n",
        "    def findWords(self, board: List[List[str]], words: List[str]) -> List[str]:\n",
        "\n",
        "        # create trie\n",
        "        Trie = lambda: defaultdict(Trie)\n",
        "        trie = Trie()\n",
        "        END = True\n",
        "\n",
        "        for word in words:\n",
        "            reduce(dict.__getitem__,word,trie)[END] = word\n",
        "\n",
        "        res = set()\n",
        "        def findstr(i,j,t):\n",
        "            if END in t:\n",
        "                res.add(t[END])\n",
        "                # return\n",
        "            letter = board[i][j]\n",
        "            board[i][j] = \"\"\n",
        "            if i > 0 and board[i-1][j] in t:\n",
        "                findstr(i-1,j,t[board[i-1][j]])\n",
        "            if j>0 and board[i][j-1] in t:\n",
        "                findstr(i,j-1,t[board[i][j-1]])\n",
        "            if i < len(board)-1 and board[i+1][j] in t:\n",
        "                findstr(i+1,j,t[board[i+1][j]])\n",
        "            if j < len(board[0])-1 and board[i][j+1] in t:\n",
        "                findstr(i,j+1,t[board[i][j+1]])\n",
        "            board[i][j] = letter\n",
        "\n",
        "            return\n",
        "\n",
        "        for i, row in enumerate(board):\n",
        "            for j, char in enumerate(row):\n",
        "                if board[i][j] in trie:\n",
        "                    findstr(i,j,trie[board[i][j]])\n",
        "        return res"
      ],
      "metadata": {
        "id": "jMhINLaYOlU0"
      },
      "execution_count": null,
      "outputs": []
    },
    {
      "cell_type": "code",
      "source": [],
      "metadata": {
        "id": "RW_3odTOOlY0"
      },
      "execution_count": null,
      "outputs": []
    },
    {
      "cell_type": "markdown",
      "source": [
        "**7th-November-2022**\n",
        "\n",
        "\n",
        "**Leetcode 212**: **Orderly Queue**\n",
        "\n",
        "**Problem**: You are given a string s and an integer k. You can choose one of the first k letters of s and append it at the end of the string..\n",
        "\n",
        "Return the lexicographically smallest string you could have after applying the mentioned step any number of moves.\n",
        "\n",
        "\n",
        "**URL**: **https://leetcode.com/problems/orderly-queue/**"
      ],
      "metadata": {
        "id": "QGL5hF86Byco"
      }
    },
    {
      "cell_type": "code",
      "source": [
        "class Solution:\n",
        "    def orderlyQueue(self, s: str, k: int) -> str:\n",
        "        if k == 1:\n",
        "             return min([s[n:] + s[:n] for n in range(len(s))])\n",
        "        return ''.join(sorted(s))"
      ],
      "metadata": {
        "id": "ZlAmCiIROlcY"
      },
      "execution_count": null,
      "outputs": []
    },
    {
      "cell_type": "code",
      "source": [],
      "metadata": {
        "id": "is2QHZFsOlgQ"
      },
      "execution_count": null,
      "outputs": []
    },
    {
      "cell_type": "markdown",
      "source": [
        "**8th-November-2022**\n",
        "\n",
        "\n",
        "**Leetcode 1323**: **Maximum 69 Number**\n",
        "\n",
        "**Problem**: You are given a positive integer num consisting only of digits 6 and 9.\n",
        "\n",
        "Return the maximum number you can get by changing at most one digit (6 becomes 9, and 9 becomes 6).\n",
        "\n",
        "\n",
        "**URL**: **https://leetcode.com/problems/maximum-69-number/**"
      ],
      "metadata": {
        "id": "rncMt92OYKf9"
      }
    },
    {
      "cell_type": "code",
      "source": [
        "class Solution:\n",
        "    def maximum69Number (self, num: int) -> int:\n",
        "        return int(str(num).replace('6', '9', 1))\n"
      ],
      "metadata": {
        "id": "4po89yAXOljz"
      },
      "execution_count": null,
      "outputs": []
    },
    {
      "cell_type": "code",
      "source": [],
      "metadata": {
        "id": "RKBL8F6gOlnr"
      },
      "execution_count": null,
      "outputs": []
    },
    {
      "cell_type": "markdown",
      "source": [
        "**9th-November-2022**\n",
        "\n",
        "\n",
        "**Leetcode 1544**: **Make the String Great**\n",
        "\n",
        "**Problem**: Given a string s of lower and upper case English letters.\n",
        "\n",
        "A good string is a string which doesn't have two adjacent characters s[i] and s[i + 1] where:\n",
        "\n",
        "0 <= i <= s.length - 2\n",
        "s[i] is a lower-case letter and s[i + 1] is the same letter but in upper-case or vice-versa.\n",
        "\n",
        "To make the string good, you can choose two adjacent characters that make the string bad and remove them. You can keep doing this until the string becomes good.\n",
        "\n",
        "Return the string after making it good. The answer is guaranteed to be unique under the given constraints.\n",
        "\n",
        "Notice that an empty string is also good.\n",
        "\n",
        "\n",
        "\n",
        "\n",
        "\n",
        "**URL**: **https://leetcode.com/problems/make-the-string-great/**"
      ],
      "metadata": {
        "id": "1PWXZhVWNioQ"
      }
    },
    {
      "cell_type": "code",
      "source": [
        "class Solution:\n",
        "    def makeGood(self, s: str) -> str:\n",
        "        k=0\n",
        "        s = list(s)\n",
        "        while k < len(s)-1:\n",
        "            if (s[k] == s[k+1].upper() or s[k].upper() == s[k+1]) and s[k] != s[k+1]:\n",
        "                # print(s)\n",
        "                s.pop(k)\n",
        "                # print(s)\n",
        "                s.pop(k)\n",
        "                # print(s)\n",
        "                k = -1\n",
        "            k+=1\n",
        "        return \"\".join(s)\n"
      ],
      "metadata": {
        "id": "hQMLXfJSOlrO"
      },
      "execution_count": null,
      "outputs": []
    },
    {
      "cell_type": "code",
      "source": [],
      "metadata": {
        "id": "byg8kTT_Olu9"
      },
      "execution_count": null,
      "outputs": []
    },
    {
      "cell_type": "markdown",
      "source": [
        "**10th-November-2022**\n",
        "\n",
        "\n",
        "**Leetcode 901**: **Online Stock Span**\n",
        "\n",
        "**Problem**: Design an algorithm that collects daily price quotes for some stock and returns the span of that stock's price for the current day.\n",
        "\n",
        "The span of the stock's price today is defined as the maximum number of consecutive days (starting from today and going backward) for which the stock price was less than or equal to today's price.\n",
        "\n",
        "..For example, if the price of a stock over the next 7 days were [100,80,60,70,60,\n",
        "75,85], then the stock spans would be [1,1,1,2,1,4,6].\n",
        "\n",
        "Implement the StockSpanner class:\n",
        "\n",
        "..StockSpanner() Initializes the object of the class.\n",
        "\n",
        "..int next(int price) Returns the span of the stock's price given that today's price is price.\n",
        "\n",
        "\n",
        "\n",
        "\n",
        "**URL**: **https://leetcode.com/problems/online-stock-span//**"
      ],
      "metadata": {
        "id": "FF-C9tHtVD0M"
      }
    },
    {
      "cell_type": "code",
      "source": [
        "class StockSpanner:\n",
        "\n",
        "    def __init__(self):\n",
        "        self.stack = []  # (price, span)\n",
        "\n",
        "\n",
        "    def next(self, price: int) -> int:\n",
        "        span = 1\n",
        "        while self.stack and self.stack[-1][0] <= price:\n",
        "            span += self.stack.pop()[1]\n",
        "        self.stack.append((price, span))\n",
        "        return span\n"
      ],
      "metadata": {
        "id": "UAqz662iOlyy"
      },
      "execution_count": null,
      "outputs": []
    },
    {
      "cell_type": "code",
      "source": [],
      "metadata": {
        "id": "ZC4-nqE2Ol2o"
      },
      "execution_count": null,
      "outputs": []
    },
    {
      "cell_type": "markdown",
      "source": [
        "**11th-November-2022**\n",
        "\n",
        "\n",
        "**Leetcode 1047**: **Remove All Adjacent Duplicates in String**\n",
        "\n",
        "**Problem**: You are given a string s consisting of lowercase English letters. A duplicate removal consists of choosing two adjacent and equal letters and removing them.\n",
        "\n",
        "We repeatedly make duplicate removals on s until we no longer can.\n",
        "\n",
        "Return the final string after all such duplicate removals have been made. It can be proven that the answer is unique.\n",
        "\n",
        "\n",
        "**URL**: **https://leetcode.com/problems/remove-all-adjacent-duplicates-in-string/**"
      ],
      "metadata": {
        "id": "874Em2ucaiug"
      }
    },
    {
      "cell_type": "code",
      "source": [
        "class Solution:\n",
        "    def removeDuplicates(self, s: str) -> str:\n",
        "        stack = []\n",
        "        topmost = -1\n",
        "\n",
        "        for k in s:\n",
        "            if stack and stack[-1] == k:\n",
        "                stack.pop()\n",
        "                topmost -= 1\n",
        "\n",
        "            else:\n",
        "                stack.append(k)\n",
        "                topmost += 1\n",
        "\n",
        "        return (''.join(stack))\n"
      ],
      "metadata": {
        "id": "J2UhoRurOl6m"
      },
      "execution_count": null,
      "outputs": []
    },
    {
      "cell_type": "code",
      "source": [],
      "metadata": {
        "id": "V3xi_ObZOl-l"
      },
      "execution_count": null,
      "outputs": []
    },
    {
      "cell_type": "markdown",
      "source": [
        "**12th-November-2022**\n",
        "\n",
        "\n",
        "**Leetcode 26**: **Remove Duplicates From Sorted Array**\n",
        "\n",
        "**Problem**: Given an integer array nums sorted in non-decreasing order, remove the duplicates in-place such that each unique element appears only once. The relative order of the elements should be kept the same.\n",
        "\n",
        "Since it is impossible to change the length of the array in some languages, you must instead have the result be placed in the first part of the array nums. More formally, if there are k elements after removing the duplicates, then the first k elements of nums should hold the final result. It does not matter what you leave beyond the first k elements.\n",
        "\n",
        "Return k after placing the final result in the first k slots of nums.\n",
        "\n",
        "Do not allocate extra space for another array. You must do this by modifying the input array in-place with O(1) extra memory.\n",
        "\n",
        "Custom Judge:\n",
        "\n",
        "The judge will test your solution with the following code:\n",
        "\n",
        "\n",
        "**URL**: **https://leetcode.com/problems/remove-duplicates-from-sorted-array/**"
      ],
      "metadata": {
        "id": "7XrR2UOIepZz"
      }
    },
    {
      "cell_type": "code",
      "source": [
        "class Solution:\n",
        "    def removeDuplicates(self, nums: List[int]) -> int:\n",
        "        i = 0\n",
        "\n",
        "        for num in nums:\n",
        "            if i < 1 or num > nums[i - 1]:\n",
        "                nums[i] = num\n",
        "                i += 1\n",
        "\n",
        "        return i\n"
      ],
      "metadata": {
        "id": "SFhsxYDGOmCZ"
      },
      "execution_count": null,
      "outputs": []
    },
    {
      "cell_type": "code",
      "source": [],
      "metadata": {
        "id": "xq5orJ_6OmGB"
      },
      "execution_count": null,
      "outputs": []
    },
    {
      "cell_type": "markdown",
      "source": [
        "**13th-November-2022**\n",
        "\n",
        "\n",
        "**Leetcode 295**: **Find Median From Date Stream**\n",
        "\n",
        "**Problem**: The median is the middle value in an ordered integer list. If the size of the list is even, there is no middle value, and the median is the mean of the two middle values.\n",
        "\n",
        "For example, for arr = [2,3,4], the median is 3.\n",
        "\n",
        "For example, for arr = [2,3], the median is (2 + 3) / 2 = 2.5.\n",
        "\n",
        "Implement the MedianFinder class:\n",
        "\n",
        "***MedianFinder()***initializes the MedianFinder object.\n",
        "\n",
        "***void addNum(int num)*** adds the integer num from the data stream to the data structure.\n",
        "\n",
        "***double findMedian()*** returns the median of all elements so far. Answers within 10-5 of the actual answer will be accepted.\n",
        "\n",
        "**URL**: **https://leetcode.com/problems/find-median-from-data-stream/**"
      ],
      "metadata": {
        "id": "Q0JJZ3_bAdgi"
      }
    },
    {
      "cell_type": "code",
      "source": [
        "class MedianFinder:\n",
        "  def __init__(self):\n",
        "    self.maxHeap = []\n",
        "    self.minHeap = []\n",
        "\n",
        "  def addNum(self, num: int) -> None:\n",
        "    if not self.maxHeap or num <= -self.maxHeap[0]:\n",
        "      heapq.heappush(self.maxHeap, -num)\n",
        "    else:\n",
        "      heapq.heappush(self.minHeap, num)\n",
        "\n",
        "    # Balance two heaps s.t.\n",
        "    # |maxHeap| >= |minHeap| and |maxHeap| - |minHeap| <= 1\n",
        "    if len(self.maxHeap) < len(self.minHeap):\n",
        "      heapq.heappush(self.maxHeap, -heapq.heappop(self.minHeap))\n",
        "    elif len(self.maxHeap) - len(self.minHeap) > 1:\n",
        "      heapq.heappush(self.minHeap, -heapq.heappop(self.maxHeap))\n",
        "\n",
        "  def findMedian(self) -> float:\n",
        "    if len(self.maxHeap) == len(self.minHeap):\n",
        "      return (-self.maxHeap[0] + self.minHeap[0]) / 2.0\n",
        "    return -self.maxHeap[0]\n"
      ],
      "metadata": {
        "id": "dxD58084OmJ8"
      },
      "execution_count": null,
      "outputs": []
    },
    {
      "cell_type": "code",
      "source": [],
      "metadata": {
        "id": "00StA8S2OmN8"
      },
      "execution_count": null,
      "outputs": []
    },
    {
      "cell_type": "markdown",
      "source": [
        "**14th-November-2022**\n",
        "\n",
        "\n",
        "**Leetcode 151**: **Reverse Words in a String**\n",
        "\n",
        "**Problem**: Given an input string s, reverse the order of the words.\n",
        "\n",
        "A word is defined as a sequence of non-space characters. The words in s will be separated by at least one space.\n",
        "\n",
        "Return a string of the words in reverse order concatenated by a single space.\n",
        "\n",
        "Note that s may contain leading or trailing spaces or multiple spaces between two words. The returned string should only have a single space separating the words. Do not include any extra spaces.\n",
        "\n",
        "**URL**: **https://leetcode.com/problems/reverse-words-in-a-string/**"
      ],
      "metadata": {
        "id": "9CMgA97lQUxG"
      }
    },
    {
      "cell_type": "code",
      "source": [
        "class Solution:\n",
        "    def reverseWords(self, s: str) -> str:\n",
        "            return ' '.join(reversed(s.split()))\n"
      ],
      "metadata": {
        "id": "9HQuhpD6OmR6"
      },
      "execution_count": null,
      "outputs": []
    },
    {
      "cell_type": "code",
      "source": [],
      "metadata": {
        "id": "644Ziea4OmWD"
      },
      "execution_count": null,
      "outputs": []
    },
    {
      "cell_type": "markdown",
      "source": [
        "**15th-November-2022**\n",
        "\n",
        "\n",
        "**Leetcode 947**: **Most Stones Removed with Same Row or Column**\n",
        "\n",
        "**Problem**: On a 2D plane, we place n stones at some integer coordinate points. Each coordinate point may have at most one stone.\n",
        "\n",
        "A stone can be removed if it shares either the same row or the same column as another stone that has not been removed.\n",
        "\n",
        "Given an array stones of length n where stones[i] = [xi, yi] represents the location of the ith stone, return the largest possible number of stones that can be removed.\n",
        "\n",
        "**URL**: **https://leetcode.com/problems/most-stones-removed-with-same-row-or-column/**"
      ],
      "metadata": {
        "id": "V4wkPiN4At_z"
      }
    },
    {
      "cell_type": "code",
      "source": [
        "class Solution:\n",
        "    def removeStones(self, stones: List[List[int]]) -> int:\n",
        "        rows=defaultdict(list)\n",
        "\n",
        "        cols=defaultdict(list)\n",
        "\n",
        "        for l,k in enumerate(stones):\n",
        "            rows[k[0]].append(l)\n",
        "            cols[k[1]].append(l)\n",
        "\n",
        "        n=len(stones)\n",
        "        vis=[False]*n\n",
        "\n",
        "\n",
        "        def dfs(node,vis):\n",
        "            ans[0]+=1\n",
        "            vis[node]=True\n",
        "            for i in rows[stones[node][0]]:\n",
        "                if vis[i]==False:\n",
        "                    dfs(i,vis)\n",
        "            for i in cols[stones[node][1]]:\n",
        "                if vis[i]==False:\n",
        "                    dfs(i,vis)\n",
        "        ans_=0\n",
        "        for i in range(0,n):\n",
        "            if vis[i]==False:\n",
        "                ans=[0]\n",
        "                dfs(i,vis)\n",
        "                ans_+=ans[0]-1\n",
        "        return ans_"
      ],
      "metadata": {
        "id": "qZxce0YtOmaD"
      },
      "execution_count": null,
      "outputs": []
    },
    {
      "cell_type": "code",
      "source": [],
      "metadata": {
        "id": "frzCsj7sOmeI"
      },
      "execution_count": null,
      "outputs": []
    },
    {
      "cell_type": "markdown",
      "source": [
        "**16th-November-2022**\n",
        "\n",
        "\n",
        "**Leetcode 222**: **Count Complete Tree Nodes**\n",
        "\n",
        "**Problem**:Given the root of a complete binary tree, return the number of the nodes in the tree.\n",
        "\n",
        "According to Wikipedia, every level, except possibly the last, is completely filled in a complete binary tree, and all nodes in the last level are as far left as possible. It can have between 1 and 2h nodes inclusive at the last level h.\n",
        "\n",
        "Design an algorithm that runs in less than O(n) time complexity.\n",
        "\n",
        "\n",
        "**URL**: **https://leetcode.com/problems/count-complete-tree-nodes//**"
      ],
      "metadata": {
        "id": "vW4B1CSG_7Wa"
      }
    },
    {
      "cell_type": "code",
      "source": [
        "# Definition for a binary tree node.\n",
        "# class TreeNode:\n",
        "#     def __init__(self, val=0, left=None, right=None):\n",
        "#         self.val = val\n",
        "#         self.left = left\n",
        "#         self.right = right\n",
        "class Solution:\n",
        "    def countNodes(self, root: Optional[TreeNode]) -> int:\n",
        "        if not root:\n",
        "            return 0\n",
        "        return 1 + self.countNodes(root.left) + self.countNodes(root.right)"
      ],
      "metadata": {
        "id": "wBzACvqlOmiK"
      },
      "execution_count": null,
      "outputs": []
    },
    {
      "cell_type": "code",
      "source": [],
      "metadata": {
        "id": "WhGaoaQ8Oml5"
      },
      "execution_count": null,
      "outputs": []
    },
    {
      "cell_type": "markdown",
      "source": [
        "**17th-November-2022**\n",
        "\n",
        "\n",
        "**Leetcode 374**: **Guess Number Higher or Lower**\n",
        "\n",
        "**Problem**:We are playing the Guess Game. The game is as follows:\n",
        "\n",
        "I pick a number from 1 to n. You have to guess which number I picked.\n",
        "\n",
        "Every time you guess wrong, I will tell you whether the number I picked is higher or lower than your guess.\n",
        "\n",
        "You call a pre-defined API int guess(int num), which returns three possible results:\n",
        "\n",
        ".. -1: Your guess is higher than the number I picked (i.e. num > pick).\n",
        "\n",
        ".. 1: Your guess is lower than the number I picked (i.e. num < pick).\n",
        "\n",
        ".. 0: your guess is equal to the number I picked (i.e. num == pick).\n",
        "\n",
        "Return the number that I picked.\n",
        "\n",
        "\n",
        "\n",
        "**URL**: **https://leetcode.com/problems/guess-number-higher-or-lower**"
      ],
      "metadata": {
        "id": "VVbBXmaEU8SB"
      }
    },
    {
      "cell_type": "code",
      "source": [
        "# The guess API is already defined for you.\n",
        "#param num, your guess\n",
        "#return -1 if num is higher than the picked number\n",
        "#          1 if num is lower than the picked number\n",
        "#          otherwise return 0\n",
        "# def guess(num: int) -> int:\n",
        "class Solution:\n",
        "    def guessNumber(self, n: int) -> int:\n",
        "        low = 1\n",
        "        high = n\n",
        "        while low <= high:\n",
        "            mid = (low + high)//2\n",
        "            results =  guess(mid)\n",
        "            if results == 0 :\n",
        "                return mid\n",
        "            elif results == -1:\n",
        "                high = mid - 1\n",
        "            else:\n",
        "                low = mid + 1\n"
      ],
      "metadata": {
        "id": "rK98CLoiOmpj"
      },
      "execution_count": null,
      "outputs": []
    },
    {
      "cell_type": "code",
      "source": [],
      "metadata": {
        "id": "lBwOv004OmtY"
      },
      "execution_count": null,
      "outputs": []
    },
    {
      "cell_type": "markdown",
      "source": [
        "**18th-November-2022**\n",
        "\n",
        "\n",
        "**Leetcode 223**: **Rectangle Area**\n",
        "\n",
        "**Problem**:Given the coordinates of two rectilinear rectangles in a 2D plane, return the total area covered by the two rectangles.\n",
        "\n",
        "The first rectangle is defined by its bottom-left corner (ax1, ay1) and its top-right corner (ax2, ay2).\n",
        "\n",
        "The second rectangle is defined by its bottom-left corner (bx1, by1) and its top-right corner (bx2, by2).\n",
        "\n",
        "\n",
        "\n",
        "**URL**: **https://leetcode.com/problems/rectangle-area/**"
      ],
      "metadata": {
        "id": "lNoE8dpBRmjJ"
      }
    },
    {
      "cell_type": "code",
      "source": [
        "class Solution:\n",
        "    def computeArea(self, ax1: int, ay1: int, ax2: int, ay2: int, bx1: int, by1: int, bx2: int, by2: int) -> int:\n",
        "        sums = (ax1 - ax2) * (ay1 - ay2) + (bx2 - bx1) * (by2 - by1)\n",
        "        return sums - max(min(ax2, bx2) - max(ax1, bx1), 0) * max(min(ay2, by2) - max(ay1, by1), 0)"
      ],
      "metadata": {
        "id": "KDBPjy19Omxh"
      },
      "execution_count": null,
      "outputs": []
    },
    {
      "cell_type": "code",
      "source": [],
      "metadata": {
        "id": "ZK6e6rKHOm1K"
      },
      "execution_count": null,
      "outputs": []
    },
    {
      "cell_type": "markdown",
      "source": [
        "**19th-November-2022**\n",
        "\n",
        "\n",
        "**Leetcode 263**: **Ugly Number**\n",
        "\n",
        "**Problem**:An ugly number is a positive integer whose prime factors are limited to 2, 3, and 5.\n",
        "\n",
        "Given an integer n, return true if n is an ugly number.\n",
        "\n",
        "\n",
        "**URL**: **https://leetcode.com/problems/ugly-number/**"
      ],
      "metadata": {
        "id": "XW_NV5e3AEbP"
      }
    },
    {
      "cell_type": "code",
      "source": [
        "class Solution:\n",
        "    def isUgly(self, n: int) -> bool:\n",
        "        if n == 0:\n",
        "            return False\n",
        "        for ugly_number in 2,3,5:\n",
        "            while n % ugly_number == 0:\n",
        "                n //= ugly_number\n",
        "        return n == 1"
      ],
      "metadata": {
        "id": "caHM9WHcOm49"
      },
      "execution_count": null,
      "outputs": []
    },
    {
      "cell_type": "code",
      "source": [],
      "metadata": {
        "id": "wVRJTKUPOm9D"
      },
      "execution_count": null,
      "outputs": []
    },
    {
      "cell_type": "markdown",
      "source": [
        "**20th-November-2022**\n",
        "\n",
        "\n",
        "**Leetcode 567**: **Erect The Fence**\n",
        "\n",
        "**Problem**:You are given an array trees where trees[i] = [xi, yi] represents the location of a tree in the garden.\n",
        "\n",
        "You are asked to fence the entire garden using the minimum length of rope as it is expensive. The garden is well fenced only if all the trees are enclosed.\n",
        "\n",
        "Return the coordinates of trees that are exactly located on the fence perimeter.\n",
        "\n",
        "**URL**: **https://leetcode.com/problems/erect-the-fence/**"
      ],
      "metadata": {
        "id": "LZx1KlY6n0yy"
      }
    },
    {
      "cell_type": "code",
      "source": [
        "class Solution:\n",
        "  def outerTrees(self, trees: List[List[int]]) -> List[List[int]]:\n",
        "    hull = []\n",
        "\n",
        "    trees.sort(key=lambda x: (x[0], x[1]))\n",
        "\n",
        "    def cross(p: List[int], q: List[int], r: List[int]) -> int:\n",
        "      return (q[1] - p[1]) * (r[0] - q[0]) - (q[0] - p[0]) * (r[1] - q[1])\n",
        "\n",
        "    # Build lower hull: left-to-right scan\n",
        "    for tree in trees:\n",
        "      while len(hull) > 1 and cross(hull[-1], hull[-2], tree) > 0:\n",
        "        hull.pop()\n",
        "      hull.append(tuple(tree))\n",
        "    hull.pop()\n",
        "\n",
        "    # Build upper hull: right-to-left scan\n",
        "    for tree in reversed(trees):\n",
        "      while len(hull) > 1 and cross(hull[-1], hull[-2], tree) > 0:\n",
        "        hull.pop()\n",
        "      hull.append(tuple(tree))\n",
        "\n",
        "    # Remove redundant elements from the stack\n",
        "    return list(set(hull))\n"
      ],
      "metadata": {
        "id": "AzzMbV--OnA7"
      },
      "execution_count": null,
      "outputs": []
    },
    {
      "cell_type": "code",
      "source": [],
      "metadata": {
        "id": "rn8k9XjAOnE5"
      },
      "execution_count": null,
      "outputs": []
    },
    {
      "cell_type": "markdown",
      "source": [
        "**21st-November-2022**\n",
        "\n",
        "\n",
        "**Leetcode 224**: **Basic Calculator**\n",
        "\n",
        "**Problem**:Given a string s representing a valid expression, implement a basic calculator to evaluate it, and return the result of the evaluation.\n",
        "\n",
        "Note: You are not allowed to use any built-in function which evaluates strings as mathematical expressions, such as eval().\n",
        "\n",
        "**URL**: **https://leetcode.com/problems/basic-calculator/**"
      ],
      "metadata": {
        "id": "A_B6VmUEIj0x"
      }
    },
    {
      "cell_type": "code",
      "source": [
        "class Solution:\n",
        "  def calculate(self, s: str) -> int:\n",
        "    ans = 0\n",
        "    num = 0\n",
        "    sign = 1\n",
        "    stack = [sign]  # stack[-1]: current env's sign\n",
        "\n",
        "    for c in s:\n",
        "      if c.isdigit():\n",
        "        num = num * 10 + (ord(c) - ord('0'))\n",
        "      elif c == '(':\n",
        "        stack.append(sign)\n",
        "      elif c == ')':\n",
        "        stack.pop()\n",
        "      elif c == '+' or c == '-':\n",
        "        ans += sign * num\n",
        "        sign = (1 if c == '+' else -1) * stack[-1]\n",
        "        num = 0\n",
        "\n",
        "    return ans + sign * num"
      ],
      "metadata": {
        "id": "Q3050mRoJCpG"
      },
      "execution_count": null,
      "outputs": []
    },
    {
      "cell_type": "code",
      "source": [],
      "metadata": {
        "id": "geJqE8bOOnI3"
      },
      "execution_count": null,
      "outputs": []
    },
    {
      "cell_type": "markdown",
      "source": [
        "**22nd-November-2022**\n",
        "\n",
        "\n",
        "**Leetcode 1926**: **Nearest Exit In A Maze**\n",
        "\n",
        "**Problem**:You are given an m x n matrix maze (0-indexed) with empty cells (represented as '.') and walls (represented as '+'). You are also given the entrance of the maze, where entrance = [entrancerow, entrancecol] denotes the row and column of the cell you are initially standing at.\n",
        "\n",
        "In one step, you can move one cell up, down, left, or right. You cannot step into a cell with a wall, and you cannot step outside the maze. Your goal is to find the nearest exit from the entrance. An exit is defined as an empty cell that is at the border of the maze. The entrance does not count as an exit.\n",
        "\n",
        "Return the number of steps in the shortest path from the entrance to the nearest exit, or -1 if no such path exists.\n",
        "\n",
        "**URL**: **https://leetcode.com/problems/nearest-exit-from-entrance-in-maze/**"
      ],
      "metadata": {
        "id": "jf2JGOe7J2xG"
      }
    },
    {
      "cell_type": "code",
      "source": [
        "class Solution:\n",
        "  def nearestExit(self, maze: List[List[str]], entrance: List[int]) -> int:\n",
        "    m = len(maze)\n",
        "    n = len(maze[0])\n",
        "    dirs = [0, 1, 0, -1, 0]\n",
        "    ans = 0\n",
        "    q = deque([(entrance[0], entrance[1])])\n",
        "    seen = {(entrance[0], entrance[1])}\n",
        "\n",
        "    while q:\n",
        "      ans += 1\n",
        "      for _ in range(len(q)):\n",
        "        i, j = q.popleft()\n",
        "        for k in range(4):\n",
        "          x = i + dirs[k]\n",
        "          y = j + dirs[k + 1]\n",
        "          if x < 0 or x == m or y < 0 or y == n:\n",
        "            continue\n",
        "          if (x, y) in seen or maze[x][y] == '+':\n",
        "            continue\n",
        "          if x == 0 or x == m - 1 or y == 0 or y == n - 1:\n",
        "            return ans\n",
        "          q.append((x, y))\n",
        "          seen.add((x, y))\n",
        "\n",
        "    return -1"
      ],
      "metadata": {
        "id": "NZS4ebICOnMt"
      },
      "execution_count": null,
      "outputs": []
    },
    {
      "cell_type": "code",
      "source": [],
      "metadata": {
        "id": "ikBeF7XNOnQh"
      },
      "execution_count": null,
      "outputs": []
    },
    {
      "cell_type": "markdown",
      "source": [
        "**23rd-November-2022**\n",
        "\n",
        "\n",
        "**Leetcode 279**: **Perfect Squares**\n",
        "\n",
        "**Problem**:Given an integer n, return the least number of perfect square numbers that sum to n.\n",
        "\n",
        "A perfect square is an integer that is the square of an integer; in other words, it is the product of some integer with itself. For example, 1, 4, 9, and 16 are perfect squares while 3 and 11 are not.\n",
        "\n",
        "**URL**: **https://leetcode.com/problems/perfect-squares/**"
      ],
      "metadata": {
        "id": "xQxgZYNhOWjI"
      }
    },
    {
      "cell_type": "code",
      "source": [
        "class Solution:\n",
        "  def numSquares(self, n: int) -> int:\n",
        "    dp = [n] * (n + 1)\n",
        "\n",
        "    dp[0] = 0\n",
        "    dp[1] = 1\n",
        "\n",
        "    for i in range(2, n + 1):\n",
        "      j = 1\n",
        "      while j * j <= i:\n",
        "        dp[i] = min(dp[i], dp[i - j * j] + 1)\n",
        "        j += 1\n",
        "\n",
        "    return dp[n]"
      ],
      "metadata": {
        "id": "LZfzeBCmOnUj"
      },
      "execution_count": null,
      "outputs": []
    },
    {
      "cell_type": "code",
      "source": [],
      "metadata": {
        "id": "Q09XtQazOnYc"
      },
      "execution_count": null,
      "outputs": []
    },
    {
      "cell_type": "markdown",
      "source": [
        "**24th-November-2022**\n",
        "\n",
        "\n",
        "**Leetcode 36**: **Valid Sudoku**\n",
        "\n",
        "**Problem**:Determine if a 9 x 9 Sudoku board is valid. Only the filled cells need to be validated according to the following rules:\n",
        "\n",
        "Each row must contain the digits 1-9 without repetition.\n",
        "\n",
        "Each column must contain the digits 1-9 without repetition.\n",
        "\n",
        "Each of the nine 3 x 3 sub-boxes of the grid must contain the digits 1-9 without repetition.\n",
        "\n",
        "Note:\n",
        "\n",
        "A Sudoku board (partially filled) could be valid but is not necessarily solvable.\n",
        "Only the filled cells need to be validated according to the mentioned rules.\n",
        "\n",
        "**URL**: **https://leetcode.com/problems/valid-sudoku/**"
      ],
      "metadata": {
        "id": "eP2QXOkjPTEg"
      }
    },
    {
      "cell_type": "code",
      "source": [
        "class Solution:\n",
        "    def isValidSudoku(self, board: List[List[str]]) -> bool:\n",
        "        seen = set()\n",
        "\n",
        "        for i in range(9):\n",
        "            for j in range(9):\n",
        "                c = board[i][j]\n",
        "                if c == '.':\n",
        "                    continue\n",
        "                if c + '@row ' + str(i) in seen or \\\n",
        "                   c + '@col ' + str(j) in seen or \\\n",
        "                   c + '@box ' + str(i // 3) + str(j // 3) in seen:\n",
        "                    return False\n",
        "                seen.add(c + '@row ' + str(i))\n",
        "                seen.add(c + '@col ' + str(j))\n",
        "                seen.add(c + '@box ' + str(i // 3) + str(j // 3))\n",
        "\n",
        "        return True"
      ],
      "metadata": {
        "id": "c0N6uM1HOnb_"
      },
      "execution_count": null,
      "outputs": []
    },
    {
      "cell_type": "code",
      "source": [],
      "metadata": {
        "id": "6gqm5dEtOnf-"
      },
      "execution_count": null,
      "outputs": []
    },
    {
      "cell_type": "markdown",
      "source": [
        "**25th-November-2022**\n",
        "\n",
        "\n",
        "**Leetcode 79**: **Word Search**\n",
        "\n",
        "**Problem**:Given an m x n grid of characters board and a string word, return true if word exists in the grid.\n",
        "\n",
        "The word can be constructed from letters of sequentially adjacent cells, where adjacent cells are horizontally or vertically neighboring. The same letter cell may not be used more than once.\n",
        "\n",
        "\n",
        "\n",
        "**URL**: **https://leetcode.com/problems/word-search/**"
      ],
      "metadata": {
        "id": "Z0RP2I3zi8fL"
      }
    },
    {
      "cell_type": "code",
      "source": [
        "class Solution:\n",
        "  def exist(self, board: List[List[str]], word: str) -> bool:\n",
        "    m = len(board)\n",
        "    n = len(board[0])\n",
        "\n",
        "    def dfs(i: int, j: int, s: int) -> bool:\n",
        "      if i < 0 or i == m or j < 0 or j == n:\n",
        "        return False\n",
        "      if board[i][j] != word[s] or board[i][j] == '*':\n",
        "        return False\n",
        "      if s == len(word) - 1:\n",
        "        return True\n",
        "\n",
        "      cache = board[i][j]\n",
        "      board[i][j] = '*'\n",
        "      isExist = \\\n",
        "          dfs(i + 1, j, s + 1) or \\\n",
        "          dfs(i - 1, j, s + 1) or \\\n",
        "          dfs(i, j + 1, s + 1) or \\\n",
        "          dfs(i, j - 1, s + 1)\n",
        "      board[i][j] = cache\n",
        "\n",
        "      return isExist\n",
        "\n",
        "    return any(dfs(i, j, 0) for i in range(m) for j in range(n))\n"
      ],
      "metadata": {
        "id": "tuhcDUGfOnje"
      },
      "execution_count": null,
      "outputs": []
    },
    {
      "cell_type": "code",
      "source": [],
      "metadata": {
        "id": "vY5xsiicOnnT"
      },
      "execution_count": null,
      "outputs": []
    },
    {
      "cell_type": "markdown",
      "source": [
        "**26th-November-2022**\n",
        "\n",
        "\n",
        "**Leetcode 907**: **Sum of Subarray Minimums**\n",
        "\n",
        "**Problem**:Given an array of integers arr, find the sum of min(b), where b ranges over every (contiguous) subarray of arr. Since the answer may be large, return the answer modulo 109 + 7.\n",
        "\n",
        "\n",
        "\n",
        "**URL**: **https://leetcode.com/problems/sum-of-subarray-minimums/**"
      ],
      "metadata": {
        "id": "75g_6hJ3AhwX"
      }
    },
    {
      "cell_type": "code",
      "source": [
        "class Solution:\n",
        "    def sumSubarrayMins(self, A: List[int]) -> int:\n",
        "        A = [0]+A\n",
        "        result = [0]*len(A)\n",
        "        stack = [0]\n",
        "        for i in range(len(A)):\n",
        "            while A[stack[-1]] > A[i]:\n",
        "                stack.pop()\n",
        "            j = stack[-1]\n",
        "            result[i] = result[j] + (i-j)*A[i]\n",
        "            stack.append(i)\n",
        "        return sum(result) % (10**9+7)"
      ],
      "metadata": {
        "id": "468Nwj64OnrF"
      },
      "execution_count": null,
      "outputs": []
    },
    {
      "cell_type": "code",
      "source": [],
      "metadata": {
        "id": "10OX5Uy5OnvE"
      },
      "execution_count": null,
      "outputs": []
    },
    {
      "cell_type": "markdown",
      "source": [
        "**27th-November-2022**\n",
        "\n",
        "\n",
        "**Leetcode 1235**: **Maximum Profit In Job Scheduling**\n",
        "\n",
        "**Problem**:We have n jobs, where every job is scheduled to be done from startTime[i] to endTime[i], obtaining a profit of profit[i].\n",
        "\n",
        "You're given the startTime, endTime and profit arrays, return the maximum profit you can take such that there are no two jobs in the subset with overlapping time range.\n",
        "\n",
        "If you choose a job that ends at time X you will be able to start another job that starts at time X.\n",
        "\n",
        "\n",
        "\n",
        "\n",
        "**URL**: **https://leetcode.com/problems/maximum-profit-in-job-scheduling/**"
      ],
      "metadata": {
        "id": "tinlxbPKBXaT"
      }
    },
    {
      "cell_type": "code",
      "source": [
        "class Solution:\n",
        "  def jobScheduling(self, startTime: List[int], endTime: List[int], profit: List[int]) -> int:\n",
        "    jobs = sorted([(s, e, p) for s, e, p in zip(startTime, endTime, profit)])\n",
        "\n",
        "    # Will use binary search to find the first available startTime\n",
        "    for i in range(len(startTime)):\n",
        "      startTime[i] = jobs[i][0]\n",
        "\n",
        "    # dp(i) := max profit to schedule jobs[i:]\n",
        "    @functools.lru_cache(None)\n",
        "    def dp(i: int) -> int:\n",
        "      if i == len(startTime):\n",
        "        return 0\n",
        "\n",
        "      j = bisect_left(startTime, jobs[i][1])\n",
        "      return max(jobs[i][2] + dp(j), dp(i + 1))\n",
        "\n",
        "    return dp(0)\n"
      ],
      "metadata": {
        "id": "fGhG8aHDOnyx"
      },
      "execution_count": null,
      "outputs": []
    },
    {
      "cell_type": "code",
      "source": [],
      "metadata": {
        "id": "Fk515pnmOn3C"
      },
      "execution_count": null,
      "outputs": []
    },
    {
      "cell_type": "markdown",
      "source": [
        "**28th-November-2022**\n",
        "\n",
        "\n",
        "**Leetcode 446**: **Arithmetic Slices II - Subsequence**\n",
        "\n",
        "**Problem**:Given an integer array nums, return the number of all the arithmetic subsequences of nums.\n",
        "\n",
        "A sequence of numbers is called arithmetic if it consists of at least three elements and if the difference between any two consecutive elements is the same.\n",
        "\n",
        "For example, [1, 3, 5, 7, 9], [7, 7, 7, 7], and [3, -1, -5, -9] are arithmetic sequences.\n",
        "\n",
        "For example, [1, 1, 2, 5, 7] is not an arithmetic sequence.\n",
        "\n",
        "A subsequence of an array is a sequence that can be formed by removing some elements (possibly none) of the array.\n",
        "\n",
        "For example, [2,5,10] is a subsequence of [1,2,1,2,4,1,5,10].\n",
        "\n",
        "The test cases are generated so that the answer fits in 32-bit integer.\n",
        "\n",
        "\n",
        "**URL**: **https://leetcode.com/problems/arithmetic-slices-ii-subsequence/**"
      ],
      "metadata": {
        "id": "eX_vj5F440CK"
      }
    },
    {
      "cell_type": "code",
      "source": [
        "class Solution:\n",
        "    def numberOfArithmeticSlices(self, A):\n",
        "        dp, res = collections.defaultdict(dict), 0\n",
        "        for j in range(len(A)):\n",
        "            for i in range(j):\n",
        "                dp[j][A[j] - A[i]] = dp[j].get(A[j] - A[i], 0) + dp[i].get(A[j] - A[i], 1)\n",
        "                if A[j] - A[i] in dp[i]: res, dp[j][A[j] - A[i]] = res + dp[i][A[j] - A[i]], dp[j][A[j] - A[i]] + 1\n",
        "        return res"
      ],
      "metadata": {
        "id": "iY16GLLUOn-2"
      },
      "execution_count": null,
      "outputs": []
    },
    {
      "cell_type": "code",
      "source": [],
      "metadata": {
        "id": "hm5VOfcQOoCj"
      },
      "execution_count": null,
      "outputs": []
    },
    {
      "cell_type": "markdown",
      "source": [
        "**29th-November-2022**\n",
        "\n",
        "\n",
        "**Leetcode 2225**: **Find Players With Zero Or One Losses**\n",
        "\n",
        "**Problem**:You are given an integer array matches where matches[i] = [winneri, loseri] indicates that the player winneri defeated player loseri in a match.\n",
        "\n",
        "Return a list answer of size 2 where:\n",
        "\n",
        "answer[0] is a list of all players that have not lost any matches.\n",
        "\n",
        "answer[1] is a list of all players that have lost exactly one match.\n",
        "\n",
        "The values in the two lists should be returned in increasing order.\n",
        "\n",
        "Note:\n",
        "\n",
        "You should only consider the players that have played at least one match.\n",
        "The testcases will be generated such that no two matches will have the same outcome.\n",
        "\n",
        "\n",
        "**URL**: **https://leetcode.com/problems/find-players-with-zero-or-one-losses/**"
      ],
      "metadata": {
        "id": "GBnV_9NxylbB"
      }
    },
    {
      "cell_type": "code",
      "source": [
        "class Solution:\n",
        "  def findWinners(self, matches: List[List[int]]) -> List[List[int]]:\n",
        "    ans = [[] for _ in range(2)]\n",
        "    lossesCount = Counter()\n",
        "\n",
        "    for winner, loser in matches:\n",
        "      if winner not in lossesCount:\n",
        "        lossesCount[winner] = 0\n",
        "      lossesCount[loser] += 1\n",
        "\n",
        "    for player, nLosses in lossesCount.items():\n",
        "      if nLosses < 2:\n",
        "        ans[nLosses].append(player)\n",
        "\n",
        "    return [sorted(ans[0]), sorted(ans[1])]"
      ],
      "metadata": {
        "id": "XoV_cZPxOoGi"
      },
      "execution_count": null,
      "outputs": []
    },
    {
      "cell_type": "code",
      "source": [],
      "metadata": {
        "id": "CW0tIiuaOoKf"
      },
      "execution_count": null,
      "outputs": []
    },
    {
      "cell_type": "markdown",
      "source": [
        "**30th-November-2022**\n",
        "\n",
        "\n",
        "**Leetcode 2225**: **Insert Delete GetRandom O(1)**\n",
        "\n",
        "**Problem**:Implement the RandomizedSet class:\n",
        "\n",
        "RandomizedSet() Initializes the RandomizedSet object.\n",
        "\n",
        "bool insert(int val) Inserts an item val into the set if not present.\n",
        "\n",
        "Returns true if the item was not present, false otherwise.\n",
        "\n",
        "bool remove(int val) Removes an item val from the set if present.\n",
        "\n",
        "Returns true if the item was present, false otherwise.\n",
        "\n",
        "int getRandom() Returns a random element from the current set of elements (it's guaranteed that at least one element exists when this method is called). Each element must have the same probability of being returned.\n",
        "\n",
        "You must implement the functions of the class such that each function works in average O(1) time complexity.\n",
        "\n",
        "\n",
        "**URL**: **https://leetcode.com/problems/insert-delete-getrandom-o1/**"
      ],
      "metadata": {
        "id": "vfPatyCKNlso"
      }
    },
    {
      "cell_type": "code",
      "source": [
        "class RandomizedSet:\n",
        "\n",
        "    def __init__(self):\n",
        "        \"\"\"\n",
        "        Initialize your data structure here.\n",
        "        \"\"\"\n",
        "        self.nums, self.ind = [], {}\n",
        "    def insert(self, val):\n",
        "        \"\"\"\n",
        "        Inserts a value to the set. Returns true if the set did not already contain the specified element.\n",
        "        :type val: int\n",
        "        :rtype: bool\n",
        "        \"\"\"\n",
        "        if val not in self.ind:\n",
        "            self.nums += val,\n",
        "            self.ind[val] = len(self.nums) - 1\n",
        "            return True\n",
        "        return False\n",
        "\n",
        "    def remove(self, val):\n",
        "        \"\"\"\n",
        "        Removes a value from the set. Returns true if the set contained the specified element.\n",
        "        :type val: int\n",
        "        :rtype: bool\n",
        "        \"\"\"\n",
        "        if val in self.ind:\n",
        "            ind, last = self.ind[val], self.nums[-1]\n",
        "            self.nums[ind], self.ind[last] = last, ind\n",
        "            self.nums.pop()\n",
        "            self.ind.pop(val)\n",
        "            return True\n",
        "        return False\n",
        "\n",
        "    def getRandom(self):\n",
        "        \"\"\"\n",
        "        Get a random element from the set.\n",
        "        :rtype: int\n",
        "        \"\"\"\n",
        "        return random.choice(self.nums)\n",
        "\n",
        "# Your RandomizedSet object will be instantiated and called as such:\n",
        "# obj = RandomizedSet()\n",
        "# param_1 = obj.insert(val)\n",
        "# param_2 = obj.remove(val)\n",
        "# param_3 = obj.getRandom()"
      ],
      "metadata": {
        "id": "uSvyuWQ0OoOO"
      },
      "execution_count": null,
      "outputs": []
    },
    {
      "cell_type": "code",
      "source": [],
      "metadata": {
        "id": "uvQodVioOoR-"
      },
      "execution_count": null,
      "outputs": []
    },
    {
      "cell_type": "markdown",
      "source": [
        "**01st-December-2022**\n",
        "\n",
        "\n",
        "**Leetcode 1207**: **Unique Number Of Occurrences**\n",
        "\n",
        "**Problem**:Given an array of integers arr, return true if the number of occurrences of each value in the array is unique, or false otherwise.\n",
        "\n",
        "\n",
        "**URL**: **https://leetcode.com/problems/unique-number-of-occurrences/**"
      ],
      "metadata": {
        "id": "zHaLzOEIbV-N"
      }
    },
    {
      "cell_type": "code",
      "source": [
        "class Solution:\n",
        "  def uniqueOccurrences(self, arr: List[int]) -> bool:\n",
        "    count = Counter(arr)\n",
        "    occurrences = set()\n",
        "\n",
        "    for value in count.values():\n",
        "      if value in occurrences:\n",
        "        return False\n",
        "      occurrences.add(value)\n",
        "\n",
        "    return True\n"
      ],
      "metadata": {
        "id": "UtS335NmOoWM"
      },
      "execution_count": null,
      "outputs": []
    },
    {
      "cell_type": "markdown",
      "source": [
        "**OR**"
      ],
      "metadata": {
        "id": "KjJAyDqPcOyl"
      }
    },
    {
      "cell_type": "code",
      "source": [
        "from collections import Counter as cnt\n",
        "class Solution:\n",
        "    def uniqueOccurrences(self, arr: List[int]) -> bool:\n",
        "        return all(v == 1 for v in cnt(cnt(arr).values()).values())"
      ],
      "metadata": {
        "id": "thfH7UlnOoZp"
      },
      "execution_count": null,
      "outputs": []
    },
    {
      "cell_type": "code",
      "source": [],
      "metadata": {
        "id": "gAex4QYuOodW"
      },
      "execution_count": null,
      "outputs": []
    },
    {
      "cell_type": "markdown",
      "source": [
        "**2nd-December-2022**\n",
        "\n",
        "\n",
        "**Leetcode 1704**: **Determine If String Halves Are Alike**\n",
        "\n",
        "**Problem**:You are given a string s of even length. Split this string into two halves of equal lengths, and let a be the first half and b be the second half.\n",
        "\n",
        "Two strings are alike if they have the same number of vowels ('a', 'e', 'i', 'o', 'u', 'A', 'E', 'I', 'O', 'U'). Notice that s contains uppercase and lowercase letters.\n",
        "\n",
        "Return true if a and b are alike. Otherwise, return false.\n",
        "\n",
        "\n",
        "\n",
        "**URL**: **https://leetcode.com/problems/determine-if-string-halves-are-alike/**"
      ],
      "metadata": {
        "id": "lLKYvU8DctuT"
      }
    },
    {
      "cell_type": "code",
      "source": [
        "class Solution:\n",
        "    def halvesAreAlike(self, s: str) -> bool:\n",
        "        vowels = set(('a', 'e', 'i', 'o', 'u', 'A', 'E', 'I', 'O', 'U'))\n",
        "        first_half, second_half = 0, 0\n",
        "        for i in range(len(s)//2):\n",
        "            if s[i] in vowels:\n",
        "                first_half += 1\n",
        "        for i in range(len(s)//2, len(s)):\n",
        "            if s[i] in vowels:\n",
        "                second_half += 1\n",
        "        return first_half == second_half"
      ],
      "metadata": {
        "id": "hnbamedHOohW"
      },
      "execution_count": null,
      "outputs": []
    },
    {
      "cell_type": "code",
      "source": [],
      "metadata": {
        "id": "VMDjS9g4Ook_"
      },
      "execution_count": null,
      "outputs": []
    },
    {
      "cell_type": "markdown",
      "source": [
        "**3rd-December-2022**\n",
        "\n",
        "\n",
        "**Leetcode 1657**: **Determine If Two Strings Are Close**\n",
        "\n",
        "**Problem**: Two strings are considered close if you can attain one from the other using the following operations:\n",
        "\n",
        "Operation 1: Swap any two existing characters.\n",
        "\n",
        "For example, abcde -> aecdb\n",
        "\n",
        "Operation 2: Transform every occurrence of one existing character into another existing character, and do the same with the other character.\n",
        "\n",
        "For example, aacabb -> bbcbaa (all a's turn into b's, and all b's turn into a's)\n",
        "You can use the operations on either string as many times as necessary.\n",
        "\n",
        "Given two strings, word1 and word2, return true if word1 and word2 are close, and false otherwise.\n",
        "\n",
        "\n",
        "**URL**: **https://leetcode.com/problems/determine-if-two-strings-are-close/**"
      ],
      "metadata": {
        "id": "SsI7qdhaxJBc"
      }
    },
    {
      "cell_type": "code",
      "source": [
        "class Solution:\n",
        "  def closeStrings(self, word1: str, word2: str) -> bool:\n",
        "    if len(word1) != len(word2):\n",
        "      return False\n",
        "\n",
        "    count1 = Counter(word1)\n",
        "    count2 = Counter(word2)\n",
        "\n",
        "    if count1.keys() != count2.keys():\n",
        "      return False\n",
        "\n",
        "    return sorted(count1.values()) == sorted(count2.values())"
      ],
      "metadata": {
        "id": "tcWv9LtMOoo5"
      },
      "execution_count": null,
      "outputs": []
    },
    {
      "cell_type": "code",
      "source": [],
      "metadata": {
        "id": "F1kQ2XVeOosc"
      },
      "execution_count": null,
      "outputs": []
    },
    {
      "cell_type": "markdown",
      "source": [
        "**4th-December-2022**\n",
        "\n",
        "\n",
        "**Leetcode 451**: **Sort Characters By Frequency**\n",
        "\n",
        "**Problem**: Given a string s, sort it in decreasing order based on the frequency of the characters. The frequency of a character is the number of times it appears in the string.\n",
        "\n",
        "Return the sorted string. If there are multiple answers, return any of them.\n",
        "\n",
        "\n",
        "\n",
        "\n",
        "**URL**: **https://leetcode.com/problems/sort-characters-by-frequency/**"
      ],
      "metadata": {
        "id": "OZccwiXJ1yBT"
      }
    },
    {
      "cell_type": "code",
      "source": [
        "class Solution:\n",
        "    def frequencySort(self, s: str) -> str:\n",
        "        sums = collections.Counter(s)\n",
        "        results = ''\n",
        "        for i, j in sorted(sums.items(), key = lambda x: -sums[x[0]]):\n",
        "            results += i * j\n",
        "            print(results)\n",
        "        return results"
      ],
      "metadata": {
        "id": "d3peNteNOowk"
      },
      "execution_count": null,
      "outputs": []
    },
    {
      "cell_type": "code",
      "source": [],
      "metadata": {
        "id": "tIjDuELFOo0R"
      },
      "execution_count": null,
      "outputs": []
    },
    {
      "cell_type": "markdown",
      "source": [
        "**5th-December-2022**\n",
        "\n",
        "\n",
        "**Leetcode 2256**: **Minimum Average Differences**\n",
        "\n",
        "**Problem**:You are given a 0-indexed integer array nums of length n.\n",
        "\n",
        "The average difference of the index i is the absolute difference between the average of the first i + 1 elements of nums and the average of the last n - i - 1 elements. Both averages should be rounded down to the nearest integer.\n",
        "\n",
        "Return the index with the minimum average difference. If there are multiple such indices, return the smallest one.\n",
        "\n",
        "Note:\n",
        "\n",
        "The absolute difference of two numbers is the absolute value of their difference.\n",
        "\n",
        "The average of n elements is the sum of the n elements divided (integer division) by n.\n",
        "\n",
        "The average of 0 elements is considered to be 0.\n",
        "\n",
        "\n",
        "\n",
        "\n",
        "\n",
        "\n",
        "**URL**: **https://leetcode.com/problems/minimum-average-difference/**"
      ],
      "metadata": {
        "id": "TuDpXVHZYTkT"
      }
    },
    {
      "cell_type": "code",
      "source": [
        "class Solution:\n",
        "  def minimumAverageDifference(self, nums: List[int]) -> int:\n",
        "    n = len(nums)\n",
        "    ans = 0\n",
        "    minDiff = inf\n",
        "    prefix = 0\n",
        "    suffix = sum(nums)\n",
        "\n",
        "    for i, num in enumerate(nums):\n",
        "      prefix += num\n",
        "      suffix -= num\n",
        "      prefixAvg = prefix // (i + 1)\n",
        "      suffixAvg = 0 if i == n - 1 else suffix // (n - i - 1)\n",
        "      diff = abs(prefixAvg - suffixAvg)\n",
        "      if diff < minDiff:\n",
        "        ans = i\n",
        "        minDiff = diff\n",
        "\n",
        "    return ans\n",
        "\n"
      ],
      "metadata": {
        "id": "dd_YgYbGOo4Q"
      },
      "execution_count": null,
      "outputs": []
    },
    {
      "cell_type": "code",
      "source": [],
      "metadata": {
        "id": "8c3CmuuROo8O"
      },
      "execution_count": null,
      "outputs": []
    },
    {
      "cell_type": "markdown",
      "source": [
        "**6th-December-2022**\n",
        "\n",
        "\n",
        "**Leetcode 876**: **Middle Of The Linked List**\n",
        "\n",
        "**Problem**:Given the head of a singly linked list, return the middle node of the linked list.\n",
        "\n",
        "If there are two middle nodes, return the second middle node.\n",
        "\n",
        "**URL**: **https://leetcode.com/problems/middle-of-the-linked-list/**"
      ],
      "metadata": {
        "id": "OD-CN5e49lcQ"
      }
    },
    {
      "cell_type": "code",
      "source": [
        "# Definition for singly-linked list.\n",
        "# class ListNode:\n",
        "#     def __init__(self, val=0, next=None):\n",
        "#         self.val = val\n",
        "#         self.next = next\n",
        "class Solution:\n",
        "    def middleNode(self, head: Optional[ListNode]) -> Optional[ListNode]:\n",
        "        init = head\n",
        "        final = head\n",
        "        while final and final.next:\n",
        "            init = init.next\n",
        "            final = final.next.next\n",
        "        return init"
      ],
      "metadata": {
        "id": "ycH00mYiOo_0"
      },
      "execution_count": null,
      "outputs": []
    },
    {
      "cell_type": "code",
      "source": [],
      "metadata": {
        "id": "isjW4FWsqq7D"
      },
      "execution_count": null,
      "outputs": []
    },
    {
      "cell_type": "markdown",
      "source": [
        "**7th-December-2022**\n",
        "\n",
        "\n",
        "**Leetcode 328**: **Odd Even Linked List**\n",
        "\n",
        "**Problem**:Given the head of a singly linked list, group all the nodes with odd indices together followed by the nodes with even indices, and return the reordered list.\n",
        "\n",
        "The first node is considered odd, and the second node is even, and so on.\n",
        "\n",
        "Note that the relative order inside both the even and odd groups should remain as it was in the input.\n",
        "\n",
        "You must solve the problem in O(1) extra space complexity and O(n) time complexity.\n",
        "\n",
        "**URL**: **https://leetcode.com/problems/odd-even-linked-list/**"
      ],
      "metadata": {
        "id": "UqD92FLItcVD"
      }
    },
    {
      "cell_type": "code",
      "source": [
        "# Definition for singly-linked list.\n",
        "# class ListNode:\n",
        "#     def __init__(self, val=0, next=None):\n",
        "#         self.val = val\n",
        "#         self.next = next\n",
        "class Solution:\n",
        "  def oddEvenList(self, head: ListNode) -> ListNode:\n",
        "    oddHead = ListNode(0)\n",
        "    evenHead = ListNode(0)\n",
        "    odd = oddHead\n",
        "    even = evenHead\n",
        "    isOdd = True\n",
        "\n",
        "    while head:\n",
        "      if isOdd:\n",
        "        odd.next = head\n",
        "        odd = head\n",
        "      else:\n",
        "        even.next = head\n",
        "        even = head\n",
        "      head = head.next\n",
        "      isOdd = not isOdd\n",
        "\n",
        "    even.next = None\n",
        "    odd.next = evenHead.next\n",
        "    return oddHead.next"
      ],
      "metadata": {
        "id": "57Me10rhqq-7"
      },
      "execution_count": null,
      "outputs": []
    },
    {
      "cell_type": "code",
      "source": [],
      "metadata": {
        "id": "T0JLNUGdJvg-"
      },
      "execution_count": null,
      "outputs": []
    },
    {
      "cell_type": "markdown",
      "source": [
        "**8th-December-2022**\n",
        "\n",
        "\n",
        "**Leetcode 938**: **Range Sum Of BST**\n",
        "\n",
        "**Problem**:GGiven the root node of a binary search tree and two integers low and high, return the sum of values of all nodes with a value in the inclusive range [low, high].\n",
        "\n",
        "**URL**: **https://leetcode.com/problems/range-sum-of-bst/**"
      ],
      "metadata": {
        "id": "AL5IabgViLaC"
      }
    },
    {
      "cell_type": "code",
      "source": [
        "# Definition for a binary tree node.\n",
        "# class TreeNode:\n",
        "#     def __init__(self, val=0, left=None, right=None):\n",
        "#         self.val = val\n",
        "#         self.left = left\n",
        "#         self.right = right\n",
        "class Solution:\n",
        "    def rangeSumBST(self, root: Optional[TreeNode], low: int, high: int) -> int:\n",
        "        if not root:\n",
        "            return 0\n",
        "        l = self.rangeSumBST(root.left, low,high)\n",
        "        h = self.rangeSumBST(root.right, low, high)\n",
        "        return l + h + (low <= root.val <= high) * root.val\n",
        "\n",
        "        "
      ],
      "metadata": {
        "id": "_ZZQB-9IJvk2"
      },
      "execution_count": null,
      "outputs": []
    },
    {
      "cell_type": "code",
      "source": [],
      "metadata": {
        "id": "XzMOui22Jvof"
      },
      "execution_count": null,
      "outputs": []
    },
    {
      "cell_type": "markdown",
      "source": [
        "**9th-December-2022**\n",
        "\n",
        "\n",
        "**Leetcode 872**: **Leaf-Similar Tree**\n",
        "\n",
        "**Problem**:Consider all the leaves of a binary tree, from left to right order, the values of those leaves form a leaf value sequence.\n",
        "\n",
        "\n",
        "\n",
        "For example, in the given tree above, the leaf value sequence is (6, 7, 4, 9, 8).\n",
        "\n",
        "Two binary trees are considered leaf-similar if their leaf value sequence is the same.\n",
        "\n",
        "Return true if and only if the two given trees with head nodes root1 and root2 are leaf-similar.\n",
        "\n",
        "**URL**: **https://leetcode.com/problems/leaf-similar-trees/**"
      ],
      "metadata": {
        "id": "1rpjIe3XjhHr"
      }
    },
    {
      "cell_type": "code",
      "source": [
        "# Definition for a binary tree node.\n",
        "# class TreeNode:\n",
        "#     def __init__(self, val=0, left=None, right=None):\n",
        "#         self.val = val\n",
        "#         self.left = left\n",
        "#         self.right = right\n",
        "class Solution:\n",
        "    def leafSimilar(self, root1: Optional[TreeNode], root2: Optional[TreeNode]) -> bool:\n",
        "         def dfs(node, arr):\n",
        "            if node:\n",
        "                if not node.left and not node.right: arr += [node.val]\n",
        "                dfs(node.left, arr)\n",
        "                dfs(node.right, arr)\n",
        "                return arr\n",
        "         return dfs(root1, []) == dfs(root2, [])\n"
      ],
      "metadata": {
        "id": "PmwPTz7uJvsR"
      },
      "execution_count": null,
      "outputs": []
    },
    {
      "cell_type": "code",
      "source": [],
      "metadata": {
        "id": "ZThtmKIeJvv4"
      },
      "execution_count": null,
      "outputs": []
    },
    {
      "cell_type": "markdown",
      "source": [
        "**10th-December-2022**\n",
        "\n",
        "\n",
        "**Leetcode 1026**: **Maximum Difference Between Node & Ancestor**\n",
        "\n",
        "**Problem**:Given the root of a binary tree, find the maximum value v for which there exist different nodes a and b where v = |a.val - b.val| and a is an ancestor of b.\n",
        "\n",
        "A node a is an ancestor of b if either: any child of a is equal to b or any child of a is an ancestor of b.\n",
        "\n",
        "**URL**: **https://leetcode.com/problems/maximum-difference-between-node-and-ancestor/**"
      ],
      "metadata": {
        "id": "73hoKbU1GujZ"
      }
    },
    {
      "cell_type": "code",
      "source": [
        "class Solution:\n",
        "    def maxAncestorDiff(self, root: TreeNode) -> int:\n",
        "        self.res = 0\n",
        "        def dfs(node):\n",
        "            mx = mn = node.val\n",
        "            if node.left:\n",
        "                lMn, lMx = dfs(node.left)\n",
        "                mx = max(mx, lMx)\n",
        "                mn = min(mn, lMn)\n",
        "                self.res = max(self.res, abs(lMn - node.val), abs(lMx - node.val))\n",
        "            if node.right:\n",
        "                rMn, rMx = dfs(node.right)\n",
        "                mx = max(mx, rMx)\n",
        "                mn = min(mn, rMn)\n",
        "                self.res = max(self.res, abs(rMn - node.val), abs(rMx - node.val))\n",
        "            return mn, mx\n",
        "        dfs(root)\n",
        "        return self.res"
      ],
      "metadata": {
        "id": "1dmDozLgJvzh"
      },
      "execution_count": null,
      "outputs": []
    },
    {
      "cell_type": "code",
      "source": [],
      "metadata": {
        "id": "qB5TGYYGJv20"
      },
      "execution_count": null,
      "outputs": []
    },
    {
      "cell_type": "markdown",
      "source": [
        "**11th-December-2022**\n",
        "\n",
        "\n",
        "**Leetcode 1339**: **Maximum Product Of Splitted Binary Tree**\n",
        "\n",
        "**Problem**:Given the root of a binary tree, split the binary tree into two subtrees by removing one edge such that the product of the sums of the subtrees is maximized.\n",
        "\n",
        "Return the maximum product of the sums of the two subtrees. Since the answer may be too large, return it modulo 109 + 7.\n",
        "\n",
        "Note that you need to maximize the answer before taking the mod and not after taking it.\n",
        "\n",
        " \n",
        "**URL**: **https://leetcode.com/problems/maximum-product-of-splitted-binary-tree/**"
      ],
      "metadata": {
        "id": "yo9hjhHLeGVQ"
      }
    },
    {
      "cell_type": "code",
      "source": [
        "# Definition for a binary tree node.\n",
        "# class TreeNode:\n",
        "#     def __init__(self, val=0, left=None, right=None):\n",
        "#         self.val = val\n",
        "#         self.left = left\n",
        "#         self.right = right\n",
        "class Solution:\n",
        "    def maxProduct(self, root: TreeNode) -> int:\n",
        "        def makesums(node):\n",
        "            if not node:\n",
        "                return 0\n",
        "            node.summ = node.val + makesums(node.left) + makesums(node.right)\n",
        "            return node.summ\n",
        "\n",
        "        def findmaxprod(node, summ):\n",
        "            maxi = 0\n",
        "            while node:\n",
        "                sum_left = node.left.summ if node.left else 0\n",
        "                sum_right = node.right.summ if node.right else 0\n",
        "                if sum_left > sum_right:\n",
        "                    node, sums = node.left, sum_left\n",
        "                else:\n",
        "                    node, sums = node.right, sum_right\n",
        "                nmaxi= sums * (summ - sums)\n",
        "                if nmaxi > maxi:\n",
        "                    maxi = nmaxi\n",
        "                else:\n",
        "                    return maxi\n",
        "              \n",
        "        summ = makesums(root)\n",
        "        return findmaxprod(root, summ) % (10 ** 9 + 7)"
      ],
      "metadata": {
        "id": "K1ahqyQzJv6E"
      },
      "execution_count": null,
      "outputs": []
    },
    {
      "cell_type": "code",
      "source": [],
      "metadata": {
        "id": "bnuz-zXRJv9L"
      },
      "execution_count": null,
      "outputs": []
    },
    {
      "cell_type": "markdown",
      "source": [
        "**12th-December-2022**\n",
        "\n",
        "\n",
        "**Leetcode 124**: **Binary Tree Maximum Path Sum**\n",
        "\n",
        "**Problem**:A path in a binary tree is a sequence of nodes where each pair of adjacent nodes in the sequence has an edge connecting them. A node can only appear in the sequence at most once. Note that the path does not need to pass through the root.\n",
        "\n",
        "The path sum of a path is the sum of the node's values in the path.\n",
        "\n",
        "Given the root of a binary tree, return the maximum path sum of any non-empty path.\n",
        " \n",
        "**URL**: **https://leetcode.com/problems/binary-tree-maximum-path-sum/**"
      ],
      "metadata": {
        "id": "xGu9lo-uMVzi"
      }
    },
    {
      "cell_type": "code",
      "source": [
        "# Definition for a binary tree node.\n",
        "# class TreeNode:\n",
        "#     def __init__(self, val=0, left=None, right=None):\n",
        "#         self.val = val\n",
        "#         self.left = left\n",
        "#         self.right = right\n",
        "class Solution:\n",
        "  def maxPathSum(self, root: Optional[TreeNode]) -> int:\n",
        "    res = -math.inf\n",
        "\n",
        "    def maxPathSumDownFrom(root: Optional[TreeNode]) -> int:\n",
        "      nonlocal res\n",
        "      if not root:\n",
        "        return 0\n",
        "\n",
        "      left = max(0, maxPathSumDownFrom(root.left))\n",
        "      right = max(0, maxPathSumDownFrom(root.right))\n",
        "      res = max(res, root.val + left + right)\n",
        "      return root.val + max(left, right)\n",
        "\n",
        "    maxPathSumDownFrom(root)\n",
        "    return res\n"
      ],
      "metadata": {
        "id": "QWj6JC3CJwAT"
      },
      "execution_count": null,
      "outputs": []
    },
    {
      "cell_type": "code",
      "source": [],
      "metadata": {
        "id": "aQFHxwx7JwEG"
      },
      "execution_count": null,
      "outputs": []
    },
    {
      "cell_type": "markdown",
      "source": [
        "**13th-December-2022**\n",
        "\n",
        "\n",
        "**Leetcode 70**: **Climbing Stairs**\n",
        "\n",
        "**Problem**:You are climbing a staircase. It takes n steps to reach the top.\n",
        "\n",
        "Each time you can either climb 1 or 2 steps. In how many distinct ways can you climb to the top?\n",
        "\n",
        "\n",
        " \n",
        "**URL**: **https://leetcode.com/problems/climbing-stairs/**"
      ],
      "metadata": {
        "id": "nnF0hdOnOIz6"
      }
    },
    {
      "cell_type": "code",
      "source": [
        "class Solution:\n",
        "    def climbStairs(self, n: int) -> int:\n",
        "        if n <= 3:\n",
        "            return n\n",
        "        n1, n2 = 2, 3\n",
        "\n",
        "        for i in range(4, n + 1):\n",
        "            temp = n1 + n2\n",
        "            n1 = n2\n",
        "            n2 = temp\n",
        "        return n2"
      ],
      "metadata": {
        "id": "S_xa8zE-JwHn"
      },
      "execution_count": null,
      "outputs": []
    },
    {
      "cell_type": "code",
      "source": [],
      "metadata": {
        "id": "bXvzxmYWJwKx"
      },
      "execution_count": null,
      "outputs": []
    },
    {
      "cell_type": "markdown",
      "source": [
        "**14th-December-2022**\n",
        "\n",
        "\n",
        "**Leetcode 931**: **Minimum Falling Path Sum**\n",
        "\n",
        "**Problem**:Given an n x n array of integers matrix, return the minimum sum of any falling path through matrix.\n",
        "\n",
        "A falling path starts at any element in the first row and chooses the element in the next row that is either directly below or diagonally left/right. Specifically, the next element from position (row, col) will be (row + 1, col - 1), (row + 1, col), or (row + 1, col + 1).\n",
        "\n",
        "**URL**: **https://leetcode.com/problems/minimum-falling-path-sum/**"
      ],
      "metadata": {
        "id": "EQEK409lGdIB"
      }
    },
    {
      "cell_type": "code",
      "source": [
        "class Solution:\n",
        "    def minFallingPathSum(self, matrix: List[List[int]]) -> int:\n",
        "        n = len(matrix)\n",
        "\n",
        "        for i in range(1, n):\n",
        "            for j in range(n):\n",
        "                mini = math.inf\n",
        "                for k in range(max(0, j - 1), min(n, j + 2)):\n",
        "                    mini = min(mini, matrix[i - 1][k])\n",
        "                matrix[i][j] += mini\n",
        "\n",
        "        return min(matrix[-1])"
      ],
      "metadata": {
        "id": "nADe1xgDJwOO"
      },
      "execution_count": null,
      "outputs": []
    },
    {
      "cell_type": "code",
      "source": [],
      "metadata": {
        "id": "_qEmBLUyJwR3"
      },
      "execution_count": null,
      "outputs": []
    },
    {
      "cell_type": "markdown",
      "source": [
        "**15th-December-2022**\n",
        "\n",
        "\n",
        "**Leetcode 198**: **House Robber**\n",
        "\n",
        "**Problem**:You are a professional robber planning to rob houses along a street. Each house has a certain amount of money stashed, the only constraint stopping you from robbing each of them is that adjacent houses have security systems connected and it will automatically contact the police if two adjacent houses were broken into on the same night.\n",
        "\n",
        "Given an integer array nums representing the amount of money of each house, return the maximum amount of money you can rob tonight without alerting the police.\n",
        "\n",
        "\n",
        "**URL**: **https://leetcode.com/problems/house-robber/**"
      ],
      "metadata": {
        "id": "knnbQW7fKo3O"
      }
    },
    {
      "cell_type": "code",
      "source": [
        "class Solution:\n",
        "  def rob(self, nums: List[int]) -> int:\n",
        "    if not nums:\n",
        "      return 0\n",
        "    if len(nums) == 1:\n",
        "      return nums[0]\n",
        "\n",
        "    # dp[i]: = max money of robbing nums[0..i]\n",
        "    dp = [0] * len(nums)\n",
        "    dp[0] = nums[0]\n",
        "    dp[1] = max(nums[0], nums[1])\n",
        "\n",
        "    for i in range(2, len(nums)):\n",
        "      dp[i] = max(dp[i - 1], dp[i - 2] + nums[i])\n",
        "\n",
        "    return dp[-1]\n"
      ],
      "metadata": {
        "id": "KBHNmx2fJwVY"
      },
      "execution_count": null,
      "outputs": []
    },
    {
      "cell_type": "code",
      "source": [],
      "metadata": {
        "id": "hw86NLjUNUnY"
      },
      "execution_count": null,
      "outputs": []
    },
    {
      "cell_type": "markdown",
      "source": [
        "**16th-December-2022**\n",
        "\n",
        "\n",
        "**Leetcode 1143**: **Longest Common Subsequence**\n",
        "\n",
        "**Problem**:Given two strings text1 and text2, return the length of their longest common subsequence. If there is no common subsequence, return 0.\n",
        "\n",
        "A subsequence of a string is a new string generated from the original string with some characters (can be none) deleted without changing the relative order of the remaining characters.\n",
        "\n",
        "For example, \"ace\" is a subsequence of \"abcde\".\n",
        "A common subsequence of two strings is a subsequence that is common to both strings.\n",
        "\n",
        "**URL**: **https://leetcode.com/problems/longest-common-subsequence/**"
      ],
      "metadata": {
        "id": "0V5orlA7Nbu_"
      }
    },
    {
      "cell_type": "code",
      "source": [
        "class Solution:\n",
        "    def longestCommonSubsequence(self, text1: str, text2: str) -> int:\n",
        "         m = len(text1)\n",
        "         n = len(text2)\n",
        "    # dp[i][j] := LCS's length of text1[0..i) and text2[0..j)\n",
        "         dp = [[0] * (n + 1) for _ in range(m + 1)]\n",
        "\n",
        "         for i in range(m):\n",
        "             for j in range(n):\n",
        "                 dp[i + 1][j + 1] = 1 + dp[i][j] if text1[i] == text2[j] \\\n",
        "             else max(dp[i][j + 1], dp[i + 1][j])\n",
        "\n",
        "         return dp[m][n]"
      ],
      "metadata": {
        "id": "SQXf8RMnNUqS"
      },
      "execution_count": null,
      "outputs": []
    },
    {
      "cell_type": "code",
      "source": [],
      "metadata": {
        "id": "rvsAJnK1NUtS"
      },
      "execution_count": null,
      "outputs": []
    },
    {
      "cell_type": "markdown",
      "source": [
        "**17th-December-2022**\n",
        "\n",
        "\n",
        "**Leetcode 232**: **Implement Queues Using Stacks**\n",
        "\n",
        "**Problem**:Implement a first in first out (FIFO) queue using only two stacks. The implemented queue should support all the functions of a normal queue (push, peek, pop, and empty).\n",
        "\n",
        "Implement the MyQueue class:\n",
        "\n",
        "void push(int x) Pushes element x to the back of the queue.\n",
        "\n",
        "int pop() Removes the element from the front of the queue and returns it.\n",
        "\n",
        "int peek() Returns the element at the front of the queue.\n",
        "\n",
        "boolean empty() Returns true if the queue is empty, false otherwise.\n",
        "\n",
        "Notes:\n",
        "\n",
        "You must use only standard operations of a stack, which means only push to top, peek/pop from top, size, and is empty operations are valid.\n",
        "Depending on your language, the stack may not be supported natively. You may simulate a stack using a list or deque (double-ended queue) as long as you use only a stack's standard operations.\n",
        " \n",
        "\n",
        "**URL**: **https://leetcode.com/problems/implement-queue-using-stacks/**"
      ],
      "metadata": {
        "id": "JFOBcMt2PTk7"
      }
    },
    {
      "cell_type": "code",
      "source": [
        "class MyQueue:\n",
        "\n",
        "    def __init__(self):\n",
        "        self.input = []\n",
        "        self.output = []   \n",
        "\n",
        "    def push(self, x: int) -> None:\n",
        "            self.input.append(x)\n",
        "        \n",
        "    def pop(self) -> int:\n",
        "        self.peek()\n",
        "        return self.output.pop()        \n",
        "\n",
        "    def peek(self) -> int:\n",
        "        if not self.output:\n",
        "            while self.input:\n",
        "                self.output.append(self.input.pop())\n",
        "        return self.output[-1]\n",
        "        \n",
        "\n",
        "    def empty(self) -> bool:\n",
        "            return not self.input and not self.output\n",
        "\n",
        "        \n",
        "# Your MyQueue object will be instantiated and called as such:\n",
        "# obj = MyQueue()\n",
        "# obj.push(x)\n",
        "# param_2 = obj.pop()\n",
        "# param_3 = obj.peek()\n",
        "# param_4 = obj.empty()"
      ],
      "metadata": {
        "id": "Md7DBTrcNUwQ"
      },
      "execution_count": null,
      "outputs": []
    },
    {
      "cell_type": "code",
      "source": [],
      "metadata": {
        "id": "CsJcQLhzNUzi"
      },
      "execution_count": null,
      "outputs": []
    },
    {
      "cell_type": "markdown",
      "source": [
        "**18th-December-2022**\n",
        "\n",
        "\n",
        "**Leetcode 150**: **Evaluate Reverse Polish Notation**\n",
        "\n",
        "**Problem**:Evaluate the value of an arithmetic expression in Reverse Polish Notation.\n",
        "\n",
        "Valid operators are +, -, *, and /. Each operand may be an integer or another expression.\n",
        "\n",
        "Note that division between two integers should truncate toward zero.\n",
        "\n",
        "It is guaranteed that the given RPN expression is always valid. That means the expression would always evaluate to a result, and there will not be any division by zero operation.\n",
        " \n",
        "\n",
        "**URL**: **https://leetcode.com/problems/evaluate-reverse-polish-notation/**"
      ],
      "metadata": {
        "id": "MPpfJS6f6Agf"
      }
    },
    {
      "cell_type": "code",
      "source": [
        "class Solution:\n",
        "    def evalRPN(self, tokens: List[str]) -> int:\n",
        "        stack = []\n",
        "        operators = {\n",
        "        '+': lambda a, b: a + b,\n",
        "        '-': lambda a, b: a - b,\n",
        "        '*': lambda a, b: a * b,\n",
        "        '/': lambda a, b: int(a / b),\n",
        "    }\n",
        "\n",
        "        for token in tokens:\n",
        "            if token in operators:\n",
        "                b = stack.pop()\n",
        "                a = stack.pop()\n",
        "                stack.append(operators[token](a, b))\n",
        "            else:\n",
        "                stack.append(int(token))\n",
        "\n",
        "        return stack[0]"
      ],
      "metadata": {
        "id": "rlpV_8rWNU2q"
      },
      "execution_count": null,
      "outputs": []
    },
    {
      "cell_type": "code",
      "source": [],
      "metadata": {
        "id": "id6J2bsPNU6V"
      },
      "execution_count": null,
      "outputs": []
    },
    {
      "cell_type": "markdown",
      "source": [
        "**19th-December-2022**\n",
        "\n",
        "\n",
        "**Leetcode 739**: **Daily Temperatures**\n",
        "\n",
        "**Problem**:Given an array of integers temperatures represents the daily temperatures, return an array answer such that answer[i] is the number of days you have to wait after the ith day to get a warmer temperature. If there is no future day for which this is possible, keep answer[i] == 0 instead.\n",
        "\n",
        " \n",
        "\n",
        "\n",
        " \n",
        "\n",
        "**URL**: **https://leetcode.com/problems/daily-temperatures/**"
      ],
      "metadata": {
        "id": "CRaNvxSrOWh0"
      }
    },
    {
      "cell_type": "code",
      "source": [
        "class Solution:\n",
        "  def dailyTemperatures(self, temperatures: List[int]) -> List[int]:\n",
        "    ans = [0] * len(temperatures)\n",
        "    stack = []\n",
        "\n",
        "    for i, t in enumerate(temperatures):\n",
        "      while stack and t > temperatures[stack[-1]]:\n",
        "        index = stack.pop()\n",
        "        ans[index] = i - index\n",
        "      stack.append(i)\n",
        "\n",
        "    return ans\n"
      ],
      "metadata": {
        "id": "VXOZKgPHNU9J"
      },
      "execution_count": null,
      "outputs": []
    },
    {
      "cell_type": "code",
      "source": [],
      "metadata": {
        "id": "EnKeREuTNVAT"
      },
      "execution_count": null,
      "outputs": []
    },
    {
      "cell_type": "markdown",
      "source": [
        "**20th-December-2022**\n",
        "\n",
        "\n",
        "**Leetcode 1971**: **Find If Path Exists In A Graph**\n",
        "\n",
        "**Problem**:There is a bi-directional graph with n vertices, where each vertex is labeled from 0 to n - 1 (inclusive). The edges in the graph are represented as a 2D integer array edges, where each edges[i] = [ui, vi] denotes a bi-directional edge between vertex ui and vertex vi. Every vertex pair is connected by at most one edge, and no vertex has an edge to itself.\n",
        "\n",
        "You want to determine if there is a valid path that exists from vertex source to vertex destination.\n",
        "\n",
        "Given edges and the integers n, source, and destination, return true if there is a valid path from source to destination, or false otherwise.\n",
        "\n",
        " \n",
        "**URL**: **https://leetcode.com/problems/find-if-path-exists-in-graph/**"
      ],
      "metadata": {
        "id": "wZDB6h9wUuCN"
      }
    },
    {
      "cell_type": "code",
      "source": [
        "class Solution:\n",
        "    def validPath(self, n: int, edges: List[List[int]], start: int, end: int) -> bool:\n",
        "        neighbors = defaultdict(list)\n",
        "        for n1, n2 in edges:\n",
        "            neighbors[n1].append(n2)\n",
        "            neighbors[n2].append(n1)\n",
        "            \n",
        "        def dfs(node, end, seen):\n",
        "            if node == end:\n",
        "                return True\n",
        "            if node in seen:\n",
        "                return False\n",
        "            \n",
        "            seen.add(node)\n",
        "            for n in neighbors[node]:\n",
        "                if dfs(n, end, seen):\n",
        "                    return True\n",
        "                \n",
        "            return False\n",
        "        \n",
        "        seen = set()    \n",
        "        return dfs(start, end, seen)"
      ],
      "metadata": {
        "id": "vBR86JExNVDb"
      },
      "execution_count": null,
      "outputs": []
    },
    {
      "cell_type": "code",
      "source": [],
      "metadata": {
        "id": "1R9kCOm7NVGz"
      },
      "execution_count": null,
      "outputs": []
    },
    {
      "cell_type": "markdown",
      "source": [
        "**21st-December-2022**\n",
        "\n",
        "\n",
        "**Leetcode 841**: **Keys And Rooms**\n",
        "\n",
        "**Problem**:There are n rooms labeled from 0 to n - 1 and all the rooms are locked except for room 0. Your goal is to visit all the rooms. However, you cannot enter a locked room without having its key.\n",
        "\n",
        "When you visit a room, you may find a set of distinct keys in it. Each key has a number on it, denoting which room it unlocks, and you can take all of them with you to unlock the other rooms.\n",
        "\n",
        "Given an array rooms where rooms[i] is the set of keys that you can obtain if you visited room i, return true if you can visit all the rooms, or false otherwise.\n",
        "\n",
        " \n",
        "\n",
        "\n",
        "**URL**: **https://leetcode.com/problems/keys-and-rooms/**"
      ],
      "metadata": {
        "id": "GJJVtkVLKSrx"
      }
    },
    {
      "cell_type": "code",
      "source": [
        "class Solution:\n",
        "  def canVisitAllRooms(self, rooms: List[List[int]]) -> bool:\n",
        "    seen = [False] * len(rooms)\n",
        "\n",
        "    def dfs(node: int) -> None:\n",
        "      seen[node] = True\n",
        "      for child in rooms[node]:\n",
        "        if not seen[child]:\n",
        "          dfs(child)\n",
        "\n",
        "    dfs(0)\n",
        "    return all(seen)\n"
      ],
      "metadata": {
        "id": "gCWWrzubNVKK"
      },
      "execution_count": null,
      "outputs": []
    },
    {
      "cell_type": "code",
      "source": [],
      "metadata": {
        "id": "KMQsAAjxNVN8"
      },
      "execution_count": null,
      "outputs": []
    },
    {
      "cell_type": "markdown",
      "source": [
        "**22nd-December-2022**\n",
        "\n",
        "\n",
        "**Leetcode 886**: **Possible Bipartition**\n",
        "\n",
        "**Problem**:We want to split a group of n people (labeled from 1 to n) into two groups of any size. Each person may dislike some other people, and they should not go into the same group.\n",
        "\n",
        "Given the integer n and the array dislikes where dislikes[i] = [ai, bi] indicates that the person labeled ai does not like the person labeled bi, return true if it is possible to split everyone into two groups in this way.\n",
        "\n",
        "\n",
        "**URL**: **https://leetcode.com/problems/possible-bipartition/**"
      ],
      "metadata": {
        "id": "0xObcWHD6VeC"
      }
    },
    {
      "cell_type": "code",
      "source": [
        "from enum import Enum\n",
        "\n",
        "\n",
        "class Color(Enum):\n",
        "  kWhite = 0\n",
        "  kRed = 1\n",
        "  kGreen = 2\n",
        "\n",
        "\n",
        "class Solution:\n",
        "  def possibleBipartition(self, n: int, dislikes: List[List[int]]) -> bool:\n",
        "    graph = [[] for _ in range(n + 1)]\n",
        "    colors = [Color.kWhite] * (n + 1)\n",
        "\n",
        "    for u, v in dislikes:\n",
        "      graph[u].append(v)\n",
        "      graph[v].append(u)\n",
        "\n",
        "    # Reduce to 785. Is Graph Bipartite?\n",
        "    def isValidColor(u: int, color: Color) -> bool:\n",
        "      # The painted color should be same as the `color`\n",
        "      if colors[u] != Color.kWhite:\n",
        "        return colors[u] == color\n",
        "\n",
        "      colors[u] = color  # Always paint w/ `color`\n",
        "\n",
        "      # All children should have valid colors\n",
        "      childrenColor = Color.kRed if colors[u] == Color.kGreen else Color.kGreen\n",
        "      return all(isValidColor(v, childrenColor) for v in graph[u])\n",
        "\n",
        "    return all(colors[i] != Color.kWhite or isValidColor(i, Color.kRed)\n",
        "               for i in range(1, n + 1))"
      ],
      "metadata": {
        "id": "vfUQ2IRFNVRf"
      },
      "execution_count": null,
      "outputs": []
    },
    {
      "cell_type": "code",
      "source": [],
      "metadata": {
        "id": "6elyVArwNVVA"
      },
      "execution_count": null,
      "outputs": []
    },
    {
      "cell_type": "markdown",
      "source": [
        "**23rd-December-2022**\n",
        "\n",
        "\n",
        "**Leetcode 834**: **Sum of Distance In Tree**\n",
        "\n",
        "**Problem**:There is an undirected connected tree with n nodes labeled from 0 to n - 1 and n - 1 edges.\n",
        "\n",
        "You are given the integer n and the array edges where edges[i] = [ai, bi] indicates that there is an edge between nodes ai and bi in the tree.\n",
        "\n",
        "Return an array answer of length n where answer[i] is the sum of the distances between the ith node in the tree and all other nodes.\n",
        "\n",
        " \n",
        "**URL**: **https://leetcode.com/problems/sum-of-distances-in-tree/**"
      ],
      "metadata": {
        "id": "VPV-U-rJ73Ts"
      }
    },
    {
      "cell_type": "code",
      "source": [
        "class Solution:\n",
        "    def sumOfDistancesInTree(self, n: int, edges: List[List[int]]) -> List[int]:\n",
        "        g = collections.defaultdict(list)\n",
        "        for u, v in edges:\n",
        "            g[u].append(v)\n",
        "            g[v].append(u)\n",
        "        \n",
        "        d = {i:[1, 0] for i in range(n)}\n",
        "        \n",
        "        def dfs(root, prev):\n",
        "            for nei in g[root]:\n",
        "                if nei != prev:\n",
        "                    dfs(nei, root)\n",
        "                    d[root][0] += d[nei][0]\n",
        "                    d[root][1] += (d[nei][0] + d[nei][1])\n",
        "        \n",
        "        def dfs2(root, prev):\n",
        "            for nei in g[root]:\n",
        "                if nei != prev:\n",
        "                    d[nei][1] = d[root][1] - d[nei][0] + (n-d[nei][0])\n",
        "                    dfs2(nei, root)\n",
        "        \n",
        "        dfs(0, -1)\n",
        "        dfs2(0, -1)\n",
        "        res = []\n",
        "        for key in d:\n",
        "            res.append(d[key][1])\n",
        "        return res"
      ],
      "metadata": {
        "id": "iogQPCYINVYI"
      },
      "execution_count": null,
      "outputs": []
    },
    {
      "cell_type": "code",
      "source": [],
      "metadata": {
        "id": "cp-SVl5qNVbX"
      },
      "execution_count": null,
      "outputs": []
    },
    {
      "cell_type": "markdown",
      "source": [
        "**24th-December-2022**\n",
        "\n",
        "\n",
        "**Leetcode 309**: **Best Time To Buy And Sell Stock With Cooldown**\n",
        "\n",
        "**Problem**:You are given an array prices where prices[i] is the price of a given stock on the ith day.\n",
        "\n",
        "Find the maximum profit you can achieve. You may complete as many transactions as you like (i.e., buy one and sell one share of the stock multiple times) with the following restrictions:\n",
        "\n",
        "After you sell your stock, you cannot buy stock on the next day (i.e., cooldown one day).\n",
        "Note: You may not engage in multiple transactions simultaneously (i.e., you must sell the stock before you buy again).\n",
        "\n",
        "**URL**: **https://leetcode.com/problems/best-time-to-buy-and-sell-stock-with-cooldown/**"
      ],
      "metadata": {
        "id": "DDMW7XLzykyV"
      }
    },
    {
      "cell_type": "code",
      "source": [
        "class Solution:\n",
        "  def maxProfit(self, prices: List[int]) -> int:\n",
        "    sell = 0\n",
        "    hold = -math.inf\n",
        "    prev = 0\n",
        "\n",
        "    for price in prices:\n",
        "      cache = sell\n",
        "      sell = max(sell, hold + price)\n",
        "      hold = max(hold, prev - price)\n",
        "      prev = cache\n",
        "\n",
        "    return sell"
      ],
      "metadata": {
        "id": "aw1UyagqNVeg"
      },
      "execution_count": null,
      "outputs": []
    },
    {
      "cell_type": "code",
      "source": [],
      "metadata": {
        "id": "2xLoX4ymNViB"
      },
      "execution_count": null,
      "outputs": []
    },
    {
      "cell_type": "markdown",
      "source": [
        "**25th-December-2022**\n",
        "\n",
        "\n",
        "**Leetcode 790**: **Domino And Tromino Tiling**\n",
        "\n",
        "**Problem**:You have two types of tiles: a 2 x 1 domino shape and a tromino shape. You may rotate these shapes.\n",
        "\n",
        "\n",
        "Given an integer n, return the number of ways to tile an 2 x n board. Since the answer may be very large, return it modulo 109 + 7.\n",
        "\n",
        "In a tiling, every square must be covered by a tile. Two tilings are different if and only if there are two 4-directionally adjacent cells on the board such that exactly one of the tilings has both squares occupied by a tile.\n",
        "\n",
        " \n",
        "\n",
        "**URL**: **https://leetcode.com/problems/domino-and-tromino-tiling/**"
      ],
      "metadata": {
        "id": "ZH3E_vMb0Yld"
      }
    },
    {
      "cell_type": "code",
      "source": [
        "class Solution:\n",
        "  def numTilings(self, N: int) -> int:\n",
        "    kMod = 1_000_000_007\n",
        "    dp = [0, 1, 2, 5] + [0] * 997\n",
        "\n",
        "    for i in range(4, N + 1):\n",
        "      dp[i] = 2 * dp[i - 1] + dp[i - 3]\n",
        "\n",
        "    return dp[N] % kMod"
      ],
      "metadata": {
        "id": "b80cnAnXNVla"
      },
      "execution_count": null,
      "outputs": []
    },
    {
      "cell_type": "code",
      "source": [],
      "metadata": {
        "id": "uqtn0HoZNVqX"
      },
      "execution_count": null,
      "outputs": []
    },
    {
      "cell_type": "markdown",
      "source": [
        "**26th-December-2022**\n",
        "\n",
        "\n",
        "**Leetcode 2389**: **Longest Subsequence With Limited Sum**\n",
        "\n",
        "**Problem**:You are given an integer array nums of length n, and an integer array queries of length m.\n",
        "\n",
        "Return an array answer of length m where answer[i] is the maximum size of a subsequence that you can take from nums such that the sum of its elements is less than or equal to queries[i].\n",
        "\n",
        "A subsequence is an array that can be derived from another array by deleting some or no elements without changing the order of the remaining elements.\n",
        "\n",
        "**URL**: **https://leetcode.com/problems/longest-subsequence-with-limited-sum/**"
      ],
      "metadata": {
        "id": "TSZIUdwZGl7C"
      }
    },
    {
      "cell_type": "code",
      "source": [
        "class Solution:\n",
        "  def answerQueries(self, nums: List[int], queries: List[int]) -> List[int]:\n",
        "    nums.sort()\n",
        "\n",
        "    def numOfElementsLessThan(query: int) -> int:\n",
        "      summ = 0\n",
        "      for i, num in enumerate(nums):\n",
        "        summ += num\n",
        "        if summ > query:\n",
        "          return i\n",
        "      return len(nums)\n",
        "\n",
        "    return [numOfElementsLessThan(query) for query in queries]\n"
      ],
      "metadata": {
        "id": "DeBRJm8rHREh"
      },
      "execution_count": null,
      "outputs": []
    },
    {
      "cell_type": "code",
      "source": [],
      "metadata": {
        "id": "l94iEoY5HRHp"
      },
      "execution_count": null,
      "outputs": []
    },
    {
      "cell_type": "markdown",
      "source": [
        "**27th-December-2022**\n",
        "\n",
        "\n",
        "**Leetcode 55**: **Jump Game**\n",
        "\n",
        "**Problem**:You are given an integer array nums. You are initially positioned at the array's first index, and each element in the array represents your maximum jump length at that position.\n",
        "\n",
        "Return true if you can reach the last index, or false otherwise.\n",
        "\n",
        " \n",
        "\n",
        "\n",
        "\n",
        "**URL**: **https://leetcode.com/problems/jump-game/**"
      ],
      "metadata": {
        "id": "J5d_1C3lBSII"
      }
    },
    {
      "cell_type": "code",
      "source": [
        "class Solution:\n",
        "  def canJump(self, nums: List[int]) -> bool:\n",
        "    i = 0\n",
        "    reach = 0\n",
        "\n",
        "    while i < len(nums) and i <= reach:\n",
        "      reach = max(reach, i + nums[i])\n",
        "      i += 1\n",
        "\n",
        "    return i == len(nums)\n"
      ],
      "metadata": {
        "id": "DwGwnSjTHRSH"
      },
      "execution_count": null,
      "outputs": []
    },
    {
      "cell_type": "code",
      "source": [],
      "metadata": {
        "id": "JzdrP5fYHRVK"
      },
      "execution_count": null,
      "outputs": []
    },
    {
      "cell_type": "markdown",
      "source": [
        "**28th-December-2022**\n",
        "\n",
        "\n",
        "**Leetcode 2279**: **Maximum Bags With Full Capacity of Rocks**\n",
        "\n",
        "**Problem**:You have n bags numbered from 0 to n - 1. You are given two 0-indexed integer arrays capacity and rocks. The ith bag can hold a maximum of capacity[i] rocks and currently contains rocks[i] rocks. You are also given an integer additionalRocks, the number of additional rocks you can place in any of the bags.\n",
        "\n",
        "Return the maximum number of bags that could have full capacity after placing the additional rocks in some bags.\n",
        "\n",
        " \n",
        "**URL**: **https://leetcode.com/problems/maximum-bags-with-full-capacity-of-rocks/**"
      ],
      "metadata": {
        "id": "GxqhvJaTFLUw"
      }
    },
    {
      "cell_type": "code",
      "source": [
        "class Solution:\n",
        "  def maximumBags(self, capacity: List[int], rocks: List[int], additionalRocks: int) -> int:\n",
        "    for i, d in enumerate(sorted([c - r for c, r in zip(capacity, rocks)])):\n",
        "      if d > additionalRocks:\n",
        "        return i\n",
        "      additionalRocks -= d\n",
        "    return len(capacity)\n"
      ],
      "metadata": {
        "id": "1SdDWyVzHRYb"
      },
      "execution_count": null,
      "outputs": []
    },
    {
      "cell_type": "code",
      "source": [],
      "metadata": {
        "id": "6KdQv0tIHRbj"
      },
      "execution_count": null,
      "outputs": []
    },
    {
      "cell_type": "markdown",
      "source": [
        "**29th-December-2022**\n",
        "\n",
        "\n",
        "**Leetcode 1962**: **Remove Stones to Minimize the Total**\n",
        "\n",
        "**Problem**:You are given a 0-indexed integer array piles, where piles[i] represents the number of stones in the ith pile, and an integer k. You should apply the following operation exactly k times:\n",
        "\n",
        "Choose any piles[i] and remove floor(piles[i] / 2) stones from it.\n",
        "Notice that you can apply the operation on the same pile more than once.\n",
        "\n",
        "Return the minimum possible total number of stones remaining after applying the k operations.\n",
        "\n",
        "floor(x) is the greatest integer that is smaller than or equal to x (i.e., rounds x down).\n",
        "\n",
        " \n",
        "**URL**: **https://leetcode.com/problems/remove-stones-to-minimize-the-total/**"
      ],
      "metadata": {
        "id": "DdDZlE7VHOYQ"
      }
    },
    {
      "cell_type": "code",
      "source": [
        "class Solution:\n",
        "    def minStoneSum(self, piles: List[int], k: int) -> int:\n",
        "        heap = []\n",
        "        for i in piles:\n",
        "            heappush(heap, -i)\n",
        "        for i in range(k):\n",
        "            temp = -floor(heappop(heap)/2)\n",
        "            heappush(heap, -temp)\n",
        "        return -sum(heap)"
      ],
      "metadata": {
        "id": "sQR4ngEwHRex"
      },
      "execution_count": null,
      "outputs": []
    },
    {
      "cell_type": "code",
      "source": [],
      "metadata": {
        "id": "svdSAWCsHRhz"
      },
      "execution_count": null,
      "outputs": []
    },
    {
      "cell_type": "markdown",
      "source": [
        "**30th-December-2022**\n",
        "\n",
        "\n",
        "**Leetcode 1834**: **Single Threaded CPU**\n",
        "\n",
        "**Problem**:You are given n​​​​​​ tasks labeled from 0 to n - 1 represented by a 2D integer array tasks, where tasks[i] = [enqueueTimei, processingTimei] means that the i​​​​​​th​​​​ task will be available to process at enqueueTimei and will take processingTimei to finish processing.\n",
        "\n",
        "You have a single-threaded CPU that can process at most one task at a time and will act in the following way:\n",
        "\n",
        "--If the CPU is idle and there are no available tasks to process, the CPU remains idle.\n",
        "If the CPU is idle and there are available tasks, the CPU will choose the one with the shortest processing time. If multiple tasks have the same shortest processing time, it will choose the task with the smallest index.\n",
        "\n",
        "--Once a task is started, the CPU will process the entire task without stopping.\n",
        "\n",
        "--The CPU can finish a task then start a new one instantly.\n",
        "Return the order in which the CPU will process the tasks.\n",
        "\n",
        " \n",
        "**URL**: **https://leetcode.com/problems/single-threaded-cpu/**"
      ],
      "metadata": {
        "id": "RUigKkpOzs8h"
      }
    },
    {
      "cell_type": "code",
      "source": [
        "class Solution:\n",
        "  def getOrder(self, tasks: List[List[int]]) -> List[int]:\n",
        "    n = len(tasks)\n",
        "    A = [[*task, i] for i, task in enumerate(tasks)]\n",
        "    ans = []\n",
        "    minHeap = []\n",
        "    i = 0  # tasks' pointer\n",
        "    time = 0  # Current time\n",
        "\n",
        "    A.sort()\n",
        "\n",
        "    while i < n or minHeap:\n",
        "      if not minHeap:\n",
        "        time = max(time, A[i][0])\n",
        "      while i < n and time >= A[i][0]:\n",
        "        heapq.heappush(minHeap, (A[i][1], A[i][2]))\n",
        "        i += 1\n",
        "      procTime, index = heapq.heappop(minHeap)\n",
        "      time += procTime\n",
        "      ans.append(index)\n",
        "\n",
        "    return ans\n"
      ],
      "metadata": {
        "id": "ifCFUAjMHRk8"
      },
      "execution_count": null,
      "outputs": []
    },
    {
      "cell_type": "code",
      "source": [],
      "metadata": {
        "id": "WsKwbETwHRob"
      },
      "execution_count": null,
      "outputs": []
    },
    {
      "cell_type": "markdown",
      "source": [
        "**31st-December-2022**\n",
        "\n",
        "\n",
        "**Leetcode 797**: **All Paths From Source To Target**\n",
        "\n",
        "**Problem**:Given a directed acyclic graph (DAG) of n nodes labeled from 0 to n - 1, find all possible paths from node 0 to node n - 1 and return them in any order.\n",
        "\n",
        "The graph is given as follows: graph[i] is a list of all nodes you can visit from node i (i.e., there is a directed edge from node i to node graph[i][j]).\n",
        "\n",
        " \n",
        "**URL**: **https://leetcode.com/problems/all-paths-from-source-to-target/**"
      ],
      "metadata": {
        "id": "Q0A4TcCYsoWN"
      }
    },
    {
      "cell_type": "code",
      "source": [
        "class Solution:\n",
        "  def allPathsSourceTarget(self, graph: List[List[int]]) -> List[List[int]]:\n",
        "    ans = []\n",
        "\n",
        "    def dfs(u: int, path: List[int]) -> None:\n",
        "      if u == len(graph) - 1:\n",
        "        ans.append(path)\n",
        "        return\n",
        "\n",
        "      for v in graph[u]:\n",
        "        dfs(v, path + [v])\n",
        "\n",
        "    dfs(0, [0])\n",
        "    return ans"
      ],
      "metadata": {
        "id": "VC2nOQ_pHRr7"
      },
      "execution_count": null,
      "outputs": []
    },
    {
      "cell_type": "code",
      "source": [],
      "metadata": {
        "id": "Ja6VMfkAHRvG"
      },
      "execution_count": null,
      "outputs": []
    },
    {
      "cell_type": "markdown",
      "source": [
        "**1st-January-2023**\n",
        "\n",
        "\n",
        "**Leetcode 980**: **Unique Paths III**\n",
        "\n",
        "**Problem**:You are given an m x n integer array grid where grid[i][j] could be:\n",
        "\n",
        "1 representing the starting square. There is exactly one starting square.\n",
        "\n",
        "2 representing the ending square. There is exactly one ending square.\n",
        "\n",
        "0 representing empty squares we can walk over.\n",
        "\n",
        "-1 representing obstacles that we cannot walk over.\n",
        "\n",
        "Return the number of 4-directional walks from the starting square to the ending square, that walk over every non-obstacle square exactly once.\n",
        "\n",
        "\n",
        "**URL**: **https://leetcode.com/problems/unique-paths-iii/**"
      ],
      "metadata": {
        "id": "m9BD4Vw8vzwn"
      }
    },
    {
      "cell_type": "code",
      "source": [
        "class Solution:\n",
        "\tdef uniquePathsIII(self, grid: List[List[int]]) -> int:\n",
        "\n",
        "\t\tdef DFS(row, col, count_zero, grid):\n",
        "\n",
        "\t\t\tif row < 0 or col < 0 or row >= len(grid) or col >= len(grid[0]) or grid[row][col] == -1:\n",
        "\t\t\t\treturn 0\n",
        "\n",
        "\t\t\tif grid[row][col] == 2:\n",
        "\t\t\t\tif count_zero == -1:\n",
        "\t\t\t\t\treturn 1\n",
        "\t\t\t\telse:\n",
        "\t\t\t\t\treturn 0\n",
        "\n",
        "\t\t\tgrid[row][col] = -1\n",
        "\n",
        "\t\t\tcount_zero = count_zero - 1\n",
        "\n",
        "\t\t\ttotal_paths = DFS(row + 1, col, count_zero, grid) + DFS(row, col + 1, count_zero, grid) + DFS(row - 1, col, count_zero, grid) + DFS(row, col - 1, count_zero, grid)\n",
        "\n",
        "\t\t\tgrid[row][col] = 0\n",
        "\n",
        "\t\t\tcount_zero = count_zero + 1\n",
        "\n",
        "\t\t\treturn total_paths\n",
        "\n",
        "\t\tcount_zero = 0\n",
        "\t\tx,y = 0,0\n",
        "\n",
        "\t\tfor r in range(len(grid)):\n",
        "\t\t\tfor c in range(len(grid[0])):\n",
        "\n",
        "\t\t\t\tif grid[r][c] == 0:\n",
        "\t\t\t\t\tcount_zero = count_zero + 1\n",
        "\n",
        "\t\t\t\telif grid[r][c] == 1:\n",
        "\t\t\t\t\tx,y = r,c\n",
        "\n",
        "\t\treturn DFS(x, y, count_zero, grid)"
      ],
      "metadata": {
        "id": "A4G81lJzHRyf"
      },
      "execution_count": null,
      "outputs": []
    },
    {
      "cell_type": "code",
      "source": [],
      "metadata": {
        "id": "ig5fGXKMg3Zw"
      },
      "execution_count": null,
      "outputs": []
    },
    {
      "cell_type": "markdown",
      "source": [
        "**2nd-January-2023**\n",
        "\n",
        "\n",
        "**Leetcode 290**: **Word Pattern**\n",
        "\n",
        "**Problem**:Given a pattern and a string s, find if s follows the same pattern.\n",
        "\n",
        "Here follow means a full match, such that there is a bijection between a letter in pattern and a non-empty word in s.\n",
        "\n",
        " \n",
        "**URL**: **https://leetcode.com/problems/word-pattern/**"
      ],
      "metadata": {
        "id": "gO-OZpgGiyc9"
      }
    },
    {
      "cell_type": "code",
      "source": [
        "class Solution:\n",
        "  def wordPattern(self, pattern: str, str: str) -> bool:\n",
        "    text = str.split()\n",
        "    return [*map(pattern.index, pattern)] == [*map(text.index, text)]\n"
      ],
      "metadata": {
        "id": "fwpu8Comg3dA"
      },
      "execution_count": null,
      "outputs": []
    },
    {
      "cell_type": "code",
      "source": [],
      "metadata": {
        "id": "Ku56859Bg3gg"
      },
      "execution_count": null,
      "outputs": []
    },
    {
      "cell_type": "markdown",
      "source": [
        "**3rd-January-2023**\n",
        "\n",
        "\n",
        "**Leetcode 520**: **Detect Capital**\n",
        "\n",
        "**Problem**:We define the usage of capitals in a word to be right when one of the following cases holds:\n",
        "\n",
        "--All letters in this word are capitals, like \"USA\".\n",
        "\n",
        "--All letters in this word are not capitals, like \"leetcode\".\n",
        "\n",
        "--Only the first letter in this word is capital, like \"Google\".\n",
        "\n",
        "Given a string word, return true if the usage of capitals in it is right.\n",
        "\n",
        " \n",
        " \n",
        "**URL**: **https://leetcode.com/problems/detect-capital/**"
      ],
      "metadata": {
        "id": "Cyyb_4dyNUXt"
      }
    },
    {
      "cell_type": "code",
      "source": [
        "class Solution:\n",
        "    def detectCapitalUse(self, word: str) -> bool:\n",
        "            return word.isupper() or word.islower() or word.istitle()\n"
      ],
      "metadata": {
        "id": "Tt7dprwwg3j2"
      },
      "execution_count": null,
      "outputs": []
    },
    {
      "cell_type": "code",
      "source": [],
      "metadata": {
        "id": "J8pRyyE7g3nJ"
      },
      "execution_count": null,
      "outputs": []
    },
    {
      "cell_type": "markdown",
      "source": [
        "**4th-January-2023**\n",
        "\n",
        "\n",
        "**Leetcode 944**: **Delete Columns to Make Sorted**\n",
        "\n",
        "**Problem**:You are given an array of n strings strs, all of the same length.\n",
        "\n",
        "The strings can be arranged such that there is one on each line, making a grid. For example, strs = [\"abc\", \"bce\", \"cae\"] can be arranged as:\n",
        "\n",
        "abc\n",
        "bce\n",
        "cae\n",
        "You want to delete the columns that are not sorted lexicographically. In the above example (0-indexed), columns 0 ('a', 'b', 'c') and 2 ('c', 'e', 'e') are sorted while column 1 ('b', 'c', 'a') is not, so you would delete column 1.\n",
        "\n",
        "Return the number of columns that you will delete.\n",
        "\n",
        " \n",
        " \n",
        "**URL**: **https://leetcode.com/problems/delete-columns-to-make-sorted/**"
      ],
      "metadata": {
        "id": "ilZeYoIcvdPD"
      }
    },
    {
      "cell_type": "code",
      "source": [
        "class Solution:\n",
        "    def minDeletionSize(self, strs: List[str]) -> int:\n",
        "        return sum(col != sorted(col) for col in map(list, zip(*strs)))\n"
      ],
      "metadata": {
        "id": "wkzplubQg3qq"
      },
      "execution_count": null,
      "outputs": []
    },
    {
      "cell_type": "code",
      "source": [],
      "metadata": {
        "id": "ot66-15Zg3uI"
      },
      "execution_count": null,
      "outputs": []
    },
    {
      "cell_type": "markdown",
      "source": [
        "**5th-January-2023**\n",
        "\n",
        "\n",
        "**Leetcode 2244**: **Minimum Rounds to Complete All Tasks**\n",
        "\n",
        "**Problem**:You are given a 0-indexed integer array tasks, where tasks[i] represents the difficulty level of a task. In each round, you can complete either 2 or 3 tasks of the same difficulty level.\n",
        "\n",
        "Return the minimum rounds required to complete all the tasks, or -1 if it is not possible to complete all the tasks.\n",
        "\n",
        "\n",
        "\n",
        " \n",
        " \n",
        "**URL**: **https://leetcode.com/problems/minimum-rounds-to-complete-all-tasks/**"
      ],
      "metadata": {
        "id": "Fa_Waf-NqDE4"
      }
    },
    {
      "cell_type": "code",
      "source": [],
      "metadata": {
        "id": "SsV_heRSg3xr"
      },
      "execution_count": null,
      "outputs": []
    },
    {
      "cell_type": "code",
      "source": [],
      "metadata": {
        "id": "9h4Arj86g31K"
      },
      "execution_count": null,
      "outputs": []
    },
    {
      "cell_type": "code",
      "source": [],
      "metadata": {
        "id": "wLaFy3v8g34n"
      },
      "execution_count": null,
      "outputs": []
    },
    {
      "cell_type": "code",
      "source": [],
      "metadata": {
        "id": "K8_TtjlIg38G"
      },
      "execution_count": null,
      "outputs": []
    },
    {
      "cell_type": "code",
      "source": [],
      "metadata": {
        "id": "JKtV0hXhg3_l"
      },
      "execution_count": null,
      "outputs": []
    },
    {
      "cell_type": "code",
      "source": [],
      "metadata": {
        "id": "VcFPbqLPg4DK"
      },
      "execution_count": null,
      "outputs": []
    },
    {
      "cell_type": "code",
      "source": [],
      "metadata": {
        "id": "-VlEX7x6g4GY"
      },
      "execution_count": null,
      "outputs": []
    },
    {
      "cell_type": "code",
      "source": [],
      "metadata": {
        "id": "rB6aAwwRg4KA"
      },
      "execution_count": null,
      "outputs": []
    },
    {
      "cell_type": "code",
      "source": [],
      "metadata": {
        "id": "2fqoNIBTg4Nj"
      },
      "execution_count": null,
      "outputs": []
    },
    {
      "cell_type": "code",
      "source": [],
      "metadata": {
        "id": "nYokZoneg4RC"
      },
      "execution_count": null,
      "outputs": []
    },
    {
      "cell_type": "code",
      "source": [],
      "metadata": {
        "id": "niVAZWUKg4Ue"
      },
      "execution_count": null,
      "outputs": []
    }
  ]
}